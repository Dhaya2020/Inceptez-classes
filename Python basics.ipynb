{
 "cells": [
  {
   "cell_type": "markdown",
   "id": "b900fb86",
   "metadata": {},
   "source": [
    "# Python -  Case Sensitive Language"
   ]
  },
  {
   "cell_type": "markdown",
   "id": "e24779fc",
   "metadata": {},
   "source": [
    "# First class (05-02-2022)\n"
   ]
  },
  {
   "cell_type": "markdown",
   "id": "753f18c5",
   "metadata": {},
   "source": [
    "#    Keyword \n",
    "\n",
    "- It have specific meanings and restrictions around how they should be used.\n",
    "- Python keywords are special reserved words that have specific meanings and purposes and can’t be used for anything but those specific purposes"
   ]
  },
  {
   "cell_type": "code",
   "execution_count": 1,
   "id": "43720b8b",
   "metadata": {},
   "outputs": [
    {
     "name": "stdout",
     "output_type": "stream",
     "text": [
      "Hello\n"
     ]
    }
   ],
   "source": [
    "print ('Hello')"
   ]
  },
  {
   "cell_type": "code",
   "execution_count": 5,
   "id": "d1558fdd",
   "metadata": {},
   "outputs": [
    {
     "name": "stdout",
     "output_type": "stream",
     "text": [
      "10\n"
     ]
    }
   ],
   "source": [
    "a = 10\n",
    "print(a)"
   ]
  },
  {
   "cell_type": "code",
   "execution_count": 7,
   "id": "a1596bdb",
   "metadata": {},
   "outputs": [
    {
     "name": "stdout",
     "output_type": "stream",
     "text": [
      "True value\n"
     ]
    }
   ],
   "source": [
    "TRUE = \"True value\"\n",
    "print(TRUE)"
   ]
  },
  {
   "cell_type": "markdown",
   "id": "806c224a",
   "metadata": {},
   "source": [
    "\n",
    "- An example of something you can’t do with Python keywords is assign something to them. If you try, then you’ll get a SyntaxError"
   ]
  },
  {
   "cell_type": "code",
   "execution_count": 9,
   "id": "113a6f8b",
   "metadata": {
    "scrolled": true
   },
   "outputs": [
    {
     "ename": "SyntaxError",
     "evalue": "cannot assign to True (Temp/ipykernel_15504/2227483689.py, line 1)",
     "output_type": "error",
     "traceback": [
      "\u001b[1;36m  File \u001b[1;32m\"C:\\Users\\Laksh\\AppData\\Local\\Temp/ipykernel_15504/2227483689.py\"\u001b[1;36m, line \u001b[1;32m1\u001b[0m\n\u001b[1;33m    True = 10\u001b[0m\n\u001b[1;37m    ^\u001b[0m\n\u001b[1;31mSyntaxError\u001b[0m\u001b[1;31m:\u001b[0m cannot assign to True\n"
     ]
    }
   ],
   "source": [
    "True = 10"
   ]
  },
  {
   "cell_type": "code",
   "execution_count": 10,
   "id": "469eabd9",
   "metadata": {},
   "outputs": [
    {
     "data": {
      "text/plain": [
       "False"
      ]
     },
     "execution_count": 10,
     "metadata": {},
     "output_type": "execute_result"
    }
   ],
   "source": [
    "5 < 3\n"
   ]
  },
  {
   "cell_type": "markdown",
   "id": "1ac4d93f",
   "metadata": {},
   "source": [
    "## Identifier\n",
    "\n",
    "-  The Python identifier is made with a combination of lowercase or uppercase letters, digits or an underscore.\n",
    "-  An identifier cannot start with a digit. If we create an identifier that starts with a digit then we will get a syntax error. We also cannot use special symbols in the identifiers name"
   ]
  },
  {
   "cell_type": "code",
   "execution_count": 1,
   "id": "110cdef9",
   "metadata": {},
   "outputs": [
    {
     "name": "stdout",
     "output_type": "stream",
     "text": [
      "First Variable\n"
     ]
    }
   ],
   "source": [
    "var_1 = 'First Variable'\n",
    "print (var_1)"
   ]
  },
  {
   "cell_type": "markdown",
   "id": "89af6c8c",
   "metadata": {},
   "source": [
    "## Python Statement\n",
    "- A statement is an instruction that a Python interpreter can execute.\n",
    "- Back slash will ignore \n",
    "\n"
   ]
  },
  {
   "cell_type": "code",
   "execution_count": 20,
   "id": "7c6012ae",
   "metadata": {},
   "outputs": [
    {
     "name": "stdout",
     "output_type": "stream",
     "text": [
      "11\n"
     ]
    }
   ],
   "source": [
    "digit = 1 + 2 + 3 +\\\n",
    "5\n",
    "print(digit)"
   ]
  },
  {
   "cell_type": "code",
   "execution_count": 22,
   "id": "b79340f2",
   "metadata": {},
   "outputs": [
    {
     "name": "stdout",
     "output_type": "stream",
     "text": [
      "1 2 3\n"
     ]
    }
   ],
   "source": [
    "a = 1\n",
    "b =2 \n",
    "c=3\n",
    "print (a,b,c)"
   ]
  },
  {
   "cell_type": "markdown",
   "id": "84d7f81e",
   "metadata": {},
   "source": [
    "## Indendation\n",
    "- ### Indentation in Python refers to the (spaces and tabs) that are used at the beginning of a statement. The statements with the same indentation belong to the same group called a suite."
   ]
  },
  {
   "cell_type": "code",
   "execution_count": 24,
   "id": "e13328e0",
   "metadata": {},
   "outputs": [
    {
     "data": {
      "text/plain": [
       "[1, 2, 3, 4, 5, 6, 7]"
      ]
     },
     "execution_count": 24,
     "metadata": {},
     "output_type": "execute_result"
    }
   ],
   "source": [
    "list(range(1,8)) # end position = n-1"
   ]
  },
  {
   "cell_type": "code",
   "execution_count": 30,
   "id": "72657d2b",
   "metadata": {},
   "outputs": [
    {
     "name": "stdout",
     "output_type": "stream",
     "text": [
      "1\n",
      "2\n",
      "3\n",
      "4\n",
      "5\n"
     ]
    }
   ],
   "source": [
    "for i in range(1,8):\n",
    "    print(i) # do part\n",
    "    if(i == 5):\n",
    "        break\n",
    "    "
   ]
  },
  {
   "cell_type": "code",
   "execution_count": 31,
   "id": "de6ec722",
   "metadata": {},
   "outputs": [
    {
     "name": "stdout",
     "output_type": "stream",
     "text": [
      "1\n",
      "2\n",
      "3\n",
      "4\n",
      "5\n",
      "6\n",
      "7\n",
      "8\n",
      "9\n"
     ]
    }
   ],
   "source": [
    "for i in range(1,10): print(i)"
   ]
  },
  {
   "cell_type": "code",
   "execution_count": 32,
   "id": "110b1281",
   "metadata": {},
   "outputs": [
    {
     "name": "stdout",
     "output_type": "stream",
     "text": [
      "True\n"
     ]
    }
   ],
   "source": [
    "if True: print ('True')"
   ]
  },
  {
   "cell_type": "markdown",
   "id": "574b6d42",
   "metadata": {},
   "source": [
    "## Comment\n",
    "\n",
    "- ### It has 2 types \n",
    "- #### sigle line comment\n",
    "- #### Multi line comment\n"
   ]
  },
  {
   "cell_type": "markdown",
   "id": "87b84968",
   "metadata": {},
   "source": [
    "### Single line comment - It comes with print keyword and in the paranthesis there will be single or double quotational comment"
   ]
  },
  {
   "cell_type": "code",
   "execution_count": 3,
   "id": "2153d7b0",
   "metadata": {},
   "outputs": [
    {
     "name": "stdout",
     "output_type": "stream",
     "text": [
      "I am an Software engineer\n",
      "I am an Analyst\n",
      "I am an data engineer\n"
     ]
    }
   ],
   "source": [
    "# who are you?\n",
    "print(\"I am an Software engineer\")\n",
    "print('I am an Analyst')\n",
    "print('I am an data engineer')"
   ]
  },
  {
   "cell_type": "code",
   "execution_count": 1,
   "id": "077e62a7",
   "metadata": {},
   "outputs": [
    {
     "data": {
      "text/plain": [
       "' My baby is cute\\nshe is very good girl\\nI love her'"
      ]
     },
     "execution_count": 1,
     "metadata": {},
     "output_type": "execute_result"
    }
   ],
   "source": [
    "\"\"\" My baby is cute\n",
    "she is very good girl\n",
    "I love her\"\"\""
   ]
  },
  {
   "cell_type": "markdown",
   "id": "071e7aea",
   "metadata": {},
   "source": [
    "## Multi line comment\n",
    "\n",
    "- ### It doesn't need any print statement, it needs to be in the delimeter or three quotation mark"
   ]
  },
  {
   "cell_type": "code",
   "execution_count": 35,
   "id": "ae485e77",
   "metadata": {},
   "outputs": [
    {
     "data": {
      "text/plain": [
       "' My first line of comment\\nMy second line of comment\\nMy third line of comment'"
      ]
     },
     "execution_count": 35,
     "metadata": {},
     "output_type": "execute_result"
    }
   ],
   "source": [
    "\"\"\" My first line of comment\n",
    "My second line of comment\n",
    "My third line of comment\"\"\"\n"
   ]
  },
  {
   "cell_type": "markdown",
   "id": "37d4283b",
   "metadata": {},
   "source": [
    "## Docstring\n",
    "- ### It's a string used to document a Python module, class, function or method, so programmers can understand what it does without having to read the details of the implementation.\n",
    "- ### It will be available or called via .Undrescore_doc_Underscore attribute."
   ]
  },
  {
   "cell_type": "code",
   "execution_count": 42,
   "id": "0b170aa5",
   "metadata": {},
   "outputs": [],
   "source": [
    "def function1():\n",
    "    \"\"\"My first function to print the statement\"\"\"\n",
    "    print('This is my first function')"
   ]
  },
  {
   "cell_type": "code",
   "execution_count": 43,
   "id": "3ae9d915",
   "metadata": {},
   "outputs": [
    {
     "name": "stdout",
     "output_type": "stream",
     "text": [
      "This is my first function\n"
     ]
    }
   ],
   "source": [
    "function1( )\n"
   ]
  },
  {
   "cell_type": "code",
   "execution_count": 44,
   "id": "efb3527c",
   "metadata": {},
   "outputs": [
    {
     "name": "stdout",
     "output_type": "stream",
     "text": [
      "My first function to print the statement\n"
     ]
    }
   ],
   "source": [
    "print(function1.__doc__)"
   ]
  },
  {
   "cell_type": "code",
   "execution_count": 62,
   "id": "cca326f3",
   "metadata": {},
   "outputs": [],
   "source": [
    "def addition_function(a, b):\n",
    "    \"\"\"Function to add two number\"\"\"\n",
    "    return a + b"
   ]
  },
  {
   "cell_type": "code",
   "execution_count": 63,
   "id": "9ec8fdca",
   "metadata": {},
   "outputs": [
    {
     "data": {
      "text/plain": [
       "17"
      ]
     },
     "execution_count": 63,
     "metadata": {},
     "output_type": "execute_result"
    }
   ],
   "source": [
    "  addition_function(5, 12)"
   ]
  },
  {
   "cell_type": "code",
   "execution_count": 65,
   "id": "a0826c05",
   "metadata": {},
   "outputs": [
    {
     "name": "stdout",
     "output_type": "stream",
     "text": [
      "Function to add two number\n"
     ]
    }
   ],
   "source": [
    "print(addition_function.__doc__)"
   ]
  },
  {
   "cell_type": "markdown",
   "id": "87f1e76f",
   "metadata": {},
   "source": [
    "# Second class (06-02-2022)"
   ]
  },
  {
   "cell_type": "markdown",
   "id": "ecf0c8ec",
   "metadata": {},
   "source": [
    "### To know the keywords"
   ]
  },
  {
   "cell_type": "code",
   "execution_count": 2,
   "id": "26d9eee2",
   "metadata": {},
   "outputs": [],
   "source": [
    "import keyword"
   ]
  },
  {
   "cell_type": "code",
   "execution_count": 3,
   "id": "85d0feca",
   "metadata": {},
   "outputs": [
    {
     "data": {
      "text/plain": [
       "['False',\n",
       " 'None',\n",
       " 'True',\n",
       " '__peg_parser__',\n",
       " 'and',\n",
       " 'as',\n",
       " 'assert',\n",
       " 'async',\n",
       " 'await',\n",
       " 'break',\n",
       " 'class',\n",
       " 'continue',\n",
       " 'def',\n",
       " 'del',\n",
       " 'elif',\n",
       " 'else',\n",
       " 'except',\n",
       " 'finally',\n",
       " 'for',\n",
       " 'from',\n",
       " 'global',\n",
       " 'if',\n",
       " 'import',\n",
       " 'in',\n",
       " 'is',\n",
       " 'lambda',\n",
       " 'nonlocal',\n",
       " 'not',\n",
       " 'or',\n",
       " 'pass',\n",
       " 'raise',\n",
       " 'return',\n",
       " 'try',\n",
       " 'while',\n",
       " 'with',\n",
       " 'yield']"
      ]
     },
     "execution_count": 3,
     "metadata": {},
     "output_type": "execute_result"
    }
   ],
   "source": [
    "keyword.kwlist"
   ]
  },
  {
   "cell_type": "code",
   "execution_count": 8,
   "id": "caf8f683",
   "metadata": {},
   "outputs": [],
   "source": [
    "from my_package import test_package"
   ]
  },
  {
   "cell_type": "code",
   "execution_count": 5,
   "id": "3fb8af23",
   "metadata": {},
   "outputs": [
    {
     "name": "stdout",
     "output_type": "stream",
     "text": [
      "PYTHON\n"
     ]
    }
   ],
   "source": [
    "my_package_var = test_package.NAME\n",
    "print(my_package_var)\n"
   ]
  },
  {
   "cell_type": "code",
   "execution_count": 6,
   "id": "72656293",
   "metadata": {},
   "outputs": [],
   "source": [
    "import os"
   ]
  },
  {
   "cell_type": "code",
   "execution_count": 7,
   "id": "1d7c0d32",
   "metadata": {},
   "outputs": [
    {
     "data": {
      "text/plain": [
       "'C:\\\\Users\\\\Laksh\\\\Documents'"
      ]
     },
     "execution_count": 7,
     "metadata": {},
     "output_type": "execute_result"
    }
   ],
   "source": [
    "os.getcwd()"
   ]
  },
  {
   "cell_type": "markdown",
   "id": "5936d3c7",
   "metadata": {},
   "source": [
    "## List"
   ]
  },
  {
   "cell_type": "code",
   "execution_count": 8,
   "id": "8fe41ead",
   "metadata": {},
   "outputs": [
    {
     "name": "stdout",
     "output_type": "stream",
     "text": [
      "{'two', 1, 3.0}\n"
     ]
    }
   ],
   "source": [
    "list1= {1,'two',3.0}\n",
    "print(list1)"
   ]
  },
  {
   "cell_type": "code",
   "execution_count": 9,
   "id": "b4a78192",
   "metadata": {},
   "outputs": [
    {
     "name": "stdout",
     "output_type": "stream",
     "text": [
      "two\n",
      "1\n",
      "3.0\n"
     ]
    }
   ],
   "source": [
    "for i in list1:\n",
    "    print(i)"
   ]
  },
  {
   "cell_type": "markdown",
   "id": "a8a8067f",
   "metadata": {},
   "source": [
    "## List Comprehension"
   ]
  },
  {
   "cell_type": "code",
   "execution_count": 7,
   "id": "04664e78",
   "metadata": {},
   "outputs": [
    {
     "data": {
      "text/plain": [
       "[20, 5.3, 25, 7.5]"
      ]
     },
     "execution_count": 7,
     "metadata": {},
     "output_type": "execute_result"
    }
   ],
   "source": [
    "list2 = [20, 5.3, 25, 7.5]\n",
    "[a for a in list2]"
   ]
  },
  {
   "cell_type": "code",
   "execution_count": 14,
   "id": "194b4088",
   "metadata": {},
   "outputs": [
    {
     "data": {
      "text/plain": [
       "[5.3, 7.5]"
      ]
     },
     "execution_count": 14,
     "metadata": {},
     "output_type": "execute_result"
    }
   ],
   "source": [
    "[a for a in list2 if a < 20]\n",
    " "
   ]
  },
  {
   "cell_type": "code",
   "execution_count": 13,
   "id": "2855eb9e",
   "metadata": {},
   "outputs": [
    {
     "data": {
      "text/plain": [
       "25"
      ]
     },
     "execution_count": 13,
     "metadata": {},
     "output_type": "execute_result"
    }
   ],
   "source": [
    "list2[2]\n"
   ]
  },
  {
   "cell_type": "markdown",
   "id": "24fcd804",
   "metadata": {},
   "source": [
    "## print each value (exp), for each value in the list(for loop), if the each value is less than 20 (condition)\n"
   ]
  },
  {
   "cell_type": "code",
   "execution_count": 16,
   "id": "d9ec894b",
   "metadata": {},
   "outputs": [
    {
     "data": {
      "text/plain": [
       "[0, 1, 2, 3, 4]"
      ]
     },
     "execution_count": 16,
     "metadata": {},
     "output_type": "execute_result"
    }
   ],
   "source": [
    "list(range(5))"
   ]
  },
  {
   "cell_type": "code",
   "execution_count": 19,
   "id": "99f98cf7",
   "metadata": {},
   "outputs": [
    {
     "data": {
      "text/plain": [
       "25"
      ]
     },
     "execution_count": 19,
     "metadata": {},
     "output_type": "execute_result"
    }
   ],
   "source": [
    "list2[2]"
   ]
  },
  {
   "cell_type": "code",
   "execution_count": 21,
   "id": "514c55a2",
   "metadata": {},
   "outputs": [],
   "source": [
    "power2 = [a**2 for a in range(11)]"
   ]
  },
  {
   "cell_type": "code",
   "execution_count": 37,
   "id": "d84777c1",
   "metadata": {},
   "outputs": [
    {
     "data": {
      "text/plain": [
       "[0, 1, 2, 3, 4, 5, 6, 7, 8, 9, 10]"
      ]
     },
     "execution_count": 37,
     "metadata": {},
     "output_type": "execute_result"
    }
   ],
   "source": [
    "list(range(11))"
   ]
  },
  {
   "cell_type": "code",
   "execution_count": 38,
   "id": "97601581",
   "metadata": {},
   "outputs": [
    {
     "data": {
      "text/plain": [
       "[0, 1, 4, 9, 16, 25, 36, 49, 64, 81, 100]"
      ]
     },
     "execution_count": 38,
     "metadata": {},
     "output_type": "execute_result"
    }
   ],
   "source": [
    "power2"
   ]
  },
  {
   "cell_type": "markdown",
   "id": "079cdd01",
   "metadata": {},
   "source": [
    "## Slicing"
   ]
  },
  {
   "cell_type": "code",
   "execution_count": 40,
   "id": "e1667010",
   "metadata": {},
   "outputs": [],
   "source": [
    "list3 = [1,2,3,4,5,6,7,8,9,10]"
   ]
  },
  {
   "cell_type": "code",
   "execution_count": 41,
   "id": "5dff3e80",
   "metadata": {},
   "outputs": [
    {
     "data": {
      "text/plain": [
       "1"
      ]
     },
     "execution_count": 41,
     "metadata": {},
     "output_type": "execute_result"
    }
   ],
   "source": [
    "list3[0]"
   ]
  },
  {
   "cell_type": "code",
   "execution_count": 42,
   "id": "43681816",
   "metadata": {},
   "outputs": [
    {
     "data": {
      "text/plain": [
       "[3, 4, 5]"
      ]
     },
     "execution_count": 42,
     "metadata": {},
     "output_type": "execute_result"
    }
   ],
   "source": [
    "list3[2:5]"
   ]
  },
  {
   "cell_type": "code",
   "execution_count": 43,
   "id": "7450244c",
   "metadata": {},
   "outputs": [
    {
     "data": {
      "text/plain": [
       "8"
      ]
     },
     "execution_count": 43,
     "metadata": {},
     "output_type": "execute_result"
    }
   ],
   "source": [
    "list3[-3]"
   ]
  },
  {
   "cell_type": "markdown",
   "id": "1304460d",
   "metadata": {},
   "source": [
    "# Data Types\n",
    "- ## There are 4 types (List, Tuple, set, dictionary )\n",
    "\n",
    "- ## List        - Dynamic sized array []    , Ordered   , changable (We can change the value )\n",
    "- ## Tuple       - comes in rounded bracket(), ordered   , unchangable\n",
    "- ## set         - comes in braces {}        , unordered , unchangable\n",
    "- ## dictionary  - comes in {key:value}      , ordered   , changable"
   ]
  },
  {
   "cell_type": "markdown",
   "id": "58321ea7",
   "metadata": {},
   "source": [
    "## list is mutable\n",
    "\n",
    "- ### Lists are used to store multiple items in a single variable.\n",
    "- ### form - list = [values]"
   ]
  },
  {
   "cell_type": "code",
   "execution_count": 44,
   "id": "f50072d2",
   "metadata": {},
   "outputs": [],
   "source": [
    "list3[3] =14"
   ]
  },
  {
   "cell_type": "code",
   "execution_count": 45,
   "id": "1d508abe",
   "metadata": {},
   "outputs": [
    {
     "data": {
      "text/plain": [
       "[1, 2, 3, 14, 5, 6, 7, 8, 9, 10]"
      ]
     },
     "execution_count": 45,
     "metadata": {},
     "output_type": "execute_result"
    }
   ],
   "source": [
    "list3"
   ]
  },
  {
   "cell_type": "markdown",
   "id": "f7f9711d",
   "metadata": {},
   "source": [
    "## Tuple is immutable\n",
    "\n",
    "- ### Tuples are used to store multiple items in a single variable.\n",
    "\n",
    "- ### Tuple is one of 4 built-in data types in Python used to store collections of data, the other 3 are List, Set, and Dictionary, all with different qualities and usage.\n",
    "\n",
    "- ### A tuple is a collection which is ordered and unchangeable.\n",
    "\n",
    "- ### form- tuple(like variable) = (values)"
   ]
  },
  {
   "cell_type": "code",
   "execution_count": 47,
   "id": "09a9e31a",
   "metadata": {},
   "outputs": [],
   "source": [
    "a =(1, 2, 3, 4, 5)"
   ]
  },
  {
   "cell_type": "code",
   "execution_count": 50,
   "id": "12d06c86",
   "metadata": {},
   "outputs": [
    {
     "data": {
      "text/plain": [
       "(3, 4, 5)"
      ]
     },
     "execution_count": 50,
     "metadata": {},
     "output_type": "execute_result"
    }
   ],
   "source": [
    "a[2:6]"
   ]
  },
  {
   "cell_type": "code",
   "execution_count": 51,
   "id": "873028b2",
   "metadata": {},
   "outputs": [
    {
     "ename": "TypeError",
     "evalue": "'tuple' object does not support item assignment",
     "output_type": "error",
     "traceback": [
      "\u001b[1;31m---------------------------------------------------------------------------\u001b[0m",
      "\u001b[1;31mTypeError\u001b[0m                                 Traceback (most recent call last)",
      "\u001b[1;32m~\\AppData\\Local\\Temp/ipykernel_15096/442785952.py\u001b[0m in \u001b[0;36m<module>\u001b[1;34m\u001b[0m\n\u001b[1;32m----> 1\u001b[1;33m \u001b[0ma\u001b[0m\u001b[1;33m[\u001b[0m\u001b[1;36m2\u001b[0m\u001b[1;33m]\u001b[0m \u001b[1;33m=\u001b[0m \u001b[1;36m13\u001b[0m\u001b[1;33m\u001b[0m\u001b[1;33m\u001b[0m\u001b[0m\n\u001b[0m",
      "\u001b[1;31mTypeError\u001b[0m: 'tuple' object does not support item assignment"
     ]
    }
   ],
   "source": [
    "a[2] = 13\n"
   ]
  },
  {
   "cell_type": "code",
   "execution_count": 2,
   "id": "808c7616",
   "metadata": {},
   "outputs": [
    {
     "name": "stdout",
     "output_type": "stream",
     "text": [
      "This is a string\n"
     ]
    },
    {
     "data": {
      "text/plain": [
       "str"
      ]
     },
     "execution_count": 2,
     "metadata": {},
     "output_type": "execute_result"
    }
   ],
   "source": [
    "s = \"This is a string\"\n",
    "print(s)\n",
    "type(s)"
   ]
  },
  {
   "cell_type": "code",
   "execution_count": 4,
   "id": "59d9012a",
   "metadata": {},
   "outputs": [
    {
     "data": {
      "text/plain": [
       "'is a string'"
      ]
     },
     "execution_count": 4,
     "metadata": {},
     "output_type": "execute_result"
    }
   ],
   "source": [
    "s[5:]"
   ]
  },
  {
   "cell_type": "markdown",
   "id": "186c8182",
   "metadata": {},
   "source": [
    "## Set - unordered\n",
    "- ### form- set = {values}\n",
    "- ### Sets are used to store multiple items in a single variable.\n",
    "- ### A set is a collection which is unordered, unchangeable*, and unindexed."
   ]
  },
  {
   "cell_type": "code",
   "execution_count": 43,
   "id": "18d5447e",
   "metadata": {},
   "outputs": [],
   "source": [
    "set1 = {1, 2, 3, 4, 5}"
   ]
  },
  {
   "cell_type": "code",
   "execution_count": 56,
   "id": "9325d6ac",
   "metadata": {},
   "outputs": [
    {
     "data": {
      "text/plain": [
       "set"
      ]
     },
     "execution_count": 56,
     "metadata": {},
     "output_type": "execute_result"
    }
   ],
   "source": [
    "type(set1)"
   ]
  },
  {
   "cell_type": "code",
   "execution_count": 57,
   "id": "4deb5567",
   "metadata": {},
   "outputs": [
    {
     "ename": "TypeError",
     "evalue": "'set' object is not subscriptable",
     "output_type": "error",
     "traceback": [
      "\u001b[1;31m---------------------------------------------------------------------------\u001b[0m",
      "\u001b[1;31mTypeError\u001b[0m                                 Traceback (most recent call last)",
      "\u001b[1;32m~\\AppData\\Local\\Temp/ipykernel_15096/2367749814.py\u001b[0m in \u001b[0;36m<module>\u001b[1;34m\u001b[0m\n\u001b[1;32m----> 1\u001b[1;33m \u001b[0mset1\u001b[0m\u001b[1;33m[\u001b[0m\u001b[1;36m2\u001b[0m\u001b[1;33m]\u001b[0m\u001b[1;33m\u001b[0m\u001b[1;33m\u001b[0m\u001b[0m\n\u001b[0m",
      "\u001b[1;31mTypeError\u001b[0m: 'set' object is not subscriptable"
     ]
    }
   ],
   "source": [
    "set1[2]"
   ]
  },
  {
   "cell_type": "code",
   "execution_count": 58,
   "id": "faee251e",
   "metadata": {},
   "outputs": [],
   "source": [
    "set2= {1,1,1,1,1,1,2,2,2,2,2,4,3,3,3,3}"
   ]
  },
  {
   "cell_type": "code",
   "execution_count": 59,
   "id": "396f233d",
   "metadata": {},
   "outputs": [
    {
     "data": {
      "text/plain": [
       "{1, 2, 3, 4}"
      ]
     },
     "execution_count": 59,
     "metadata": {},
     "output_type": "execute_result"
    }
   ],
   "source": [
    "set2"
   ]
  },
  {
   "cell_type": "markdown",
   "id": "06015efe",
   "metadata": {},
   "source": [
    "## Dictionary\n",
    "\n",
    "\n",
    "- ### Dictionaries are used to store data values in key:value pairs.\n",
    "\n",
    "- ### A dictionary is a collection which is ordered*, changeable and do not allow duplicates."
   ]
  },
  {
   "cell_type": "markdown",
   "id": "dfd0024f",
   "metadata": {},
   "source": [
    "#### form \n",
    "- #### dict = { Key : Value }"
   ]
  },
  {
   "cell_type": "code",
   "execution_count": 54,
   "id": "7a3679c7",
   "metadata": {},
   "outputs": [],
   "source": [
    "dict1 = {1: 'value1', 2:'value2', 3:'value3'}"
   ]
  },
  {
   "cell_type": "code",
   "execution_count": 7,
   "id": "01efa9b6",
   "metadata": {},
   "outputs": [
    {
     "data": {
      "text/plain": [
       "dict"
      ]
     },
     "execution_count": 7,
     "metadata": {},
     "output_type": "execute_result"
    }
   ],
   "source": [
    "type(dict1)"
   ]
  },
  {
   "cell_type": "code",
   "execution_count": 58,
   "id": "66460c70",
   "metadata": {
    "scrolled": true
   },
   "outputs": [
    {
     "data": {
      "text/plain": [
       "('value1', 'value2')"
      ]
     },
     "execution_count": 58,
     "metadata": {},
     "output_type": "execute_result"
    }
   ],
   "source": [
    "dict1[1], dict1[2]"
   ]
  },
  {
   "cell_type": "code",
   "execution_count": 59,
   "id": "b0458b59",
   "metadata": {},
   "outputs": [
    {
     "data": {
      "text/plain": [
       "'value2'"
      ]
     },
     "execution_count": 59,
     "metadata": {},
     "output_type": "execute_result"
    }
   ],
   "source": [
    "dict1[2]"
   ]
  },
  {
   "cell_type": "markdown",
   "id": "db0bac7f",
   "metadata": {},
   "source": [
    "## Third class  (12-02-2022)"
   ]
  },
  {
   "cell_type": "markdown",
   "id": "d441303c",
   "metadata": {},
   "source": [
    "## Data type conversion"
   ]
  },
  {
   "cell_type": "code",
   "execution_count": 1,
   "id": "67befd4f",
   "metadata": {},
   "outputs": [
    {
     "data": {
      "text/plain": [
       "10.0"
      ]
     },
     "execution_count": 1,
     "metadata": {},
     "output_type": "execute_result"
    }
   ],
   "source": [
    "float(10)"
   ]
  },
  {
   "cell_type": "code",
   "execution_count": 2,
   "id": "5173d83c",
   "metadata": {},
   "outputs": [
    {
     "data": {
      "text/plain": [
       "10"
      ]
     },
     "execution_count": 2,
     "metadata": {},
     "output_type": "execute_result"
    }
   ],
   "source": [
    "int(10.5)"
   ]
  },
  {
   "cell_type": "code",
   "execution_count": 3,
   "id": "f9d3ca1b",
   "metadata": {},
   "outputs": [
    {
     "data": {
      "text/plain": [
       "5.5"
      ]
     },
     "execution_count": 3,
     "metadata": {},
     "output_type": "execute_result"
    }
   ],
   "source": [
    "float('5.5')"
   ]
  },
  {
   "cell_type": "code",
   "execution_count": 4,
   "id": "73fe0ada",
   "metadata": {},
   "outputs": [
    {
     "data": {
      "text/plain": [
       "'20'"
      ]
     },
     "execution_count": 4,
     "metadata": {},
     "output_type": "execute_result"
    }
   ],
   "source": [
    "str(20)"
   ]
  },
  {
   "cell_type": "markdown",
   "id": "b16e2c00",
   "metadata": {},
   "source": [
    "## Convention of sequesnces from one to another"
   ]
  },
  {
   "cell_type": "code",
   "execution_count": 44,
   "id": "da3e1be4",
   "metadata": {},
   "outputs": [
    {
     "data": {
      "text/plain": [
       "{1, 2, 5, 7}"
      ]
     },
     "execution_count": 44,
     "metadata": {},
     "output_type": "execute_result"
    }
   ],
   "source": [
    "set([1, 2, 5, 7, 7])"
   ]
  },
  {
   "cell_type": "code",
   "execution_count": 8,
   "id": "9441d38e",
   "metadata": {},
   "outputs": [
    {
     "data": {
      "text/plain": [
       "['L', 'I', 'S', 'T']"
      ]
     },
     "execution_count": 8,
     "metadata": {},
     "output_type": "execute_result"
    }
   ],
   "source": [
    "list('LIST')"
   ]
  },
  {
   "cell_type": "code",
   "execution_count": 11,
   "id": "ab1c6bca",
   "metadata": {},
   "outputs": [
    {
     "name": "stdout",
     "output_type": "stream",
     "text": [
      "{'name': 'John', 10: 50}\n"
     ]
    }
   ],
   "source": [
    "print(dict([[\"name\", \"John\"], [10,50]]))"
   ]
  },
  {
   "cell_type": "markdown",
   "id": "6e42042f",
   "metadata": {},
   "source": [
    "## Type convertion"
   ]
  },
  {
   "cell_type": "markdown",
   "id": "52697e4f",
   "metadata": {},
   "source": [
    "## There are 2 types\n",
    "### * Implicit convertion\n",
    "### * Explicit Convertion"
   ]
  },
  {
   "cell_type": "code",
   "execution_count": 23,
   "id": "c1bc9ada",
   "metadata": {},
   "outputs": [
    {
     "name": "stdout",
     "output_type": "stream",
     "text": [
      "datatype of int_var is: <class 'int'>\n",
      "datatype of float_var is: <class 'float'>\n",
      "The new value after conversion is: 642.7\n",
      "Datatype of conversion1 is: <class 'float'>\n"
     ]
    }
   ],
   "source": [
    "int_var = 587\n",
    "float_var = 55.7\n",
    "\n",
    "conversion1 = int_var + float_var\n",
    "\n",
    "print('datatype of int_var is:', type(int_var))\n",
    "print('datatype of float_var is:', type(float_var))\n",
    "print('The new value after conversion is:', conversion1)\n",
    "print('Datatype of conversion1 is:', type(conversion1))"
   ]
  },
  {
   "cell_type": "code",
   "execution_count": 9,
   "id": "2311a2a1",
   "metadata": {},
   "outputs": [
    {
     "name": "stdout",
     "output_type": "stream",
     "text": [
      "datatype of int_var is: <class 'int'>\n",
      "datatype of srting_var is: <class 'float'>\n",
      "The new value after conversion is: 642.7\n",
      "Datatype of conversion1 is: <class 'float'>\n"
     ]
    }
   ],
   "source": [
    "int_var = 587\n",
    "string_var = float(\"55.7\")\n",
    "\n",
    "conversion1 = int_var + string_var\n",
    "\n",
    "print('datatype of int_var is:', type(int_var))\n",
    "print('datatype of srting_var is:', type(string_var))\n",
    "print('The new value after conversion is:', conversion1)\n",
    "print('Datatype of conversion1 is:', type(conversion1))"
   ]
  },
  {
   "cell_type": "code",
   "execution_count": 29,
   "id": "54f3e895",
   "metadata": {},
   "outputs": [
    {
     "name": "stdout",
     "output_type": "stream",
     "text": [
      "datatype of int_var is: <class 'int'>\n",
      "datatype of float_var is: <class 'float'>\n",
      "The new value after conversion is: 642.7\n",
      "Datatype of conversion1 is: <class 'float'>\n"
     ]
    }
   ],
   "source": [
    "int_var = 587\n",
    "string_var = \"55.7\"\n",
    "\n",
    "conversion1 = (int_var) + float(string_var)\n",
    "\n",
    "print('datatype of int_var is:', type(int_var))\n",
    "print('datatype of float_var is:', type(float_var))\n",
    "print('The new value after conversion is:', conversion1)\n",
    "print('Datatype of conversion1 is:', type(conversion1))"
   ]
  },
  {
   "cell_type": "markdown",
   "id": "f6667504",
   "metadata": {},
   "source": [
    "## Input"
   ]
  },
  {
   "cell_type": "code",
   "execution_count": 50,
   "id": "4933830e",
   "metadata": {},
   "outputs": [
    {
     "name": "stdout",
     "output_type": "stream",
     "text": [
      "Enter the number: 20\n",
      "70.0\n"
     ]
    }
   ],
   "source": [
    "num = input('Enter the number: ')\n",
    "\n",
    "add = float(num) + 50\n",
    "print(add)\n"
   ]
  },
  {
   "cell_type": "code",
   "execution_count": 1,
   "id": "18af49af",
   "metadata": {},
   "outputs": [
    {
     "name": "stdout",
     "output_type": "stream",
     "text": [
      "80\n"
     ]
    }
   ],
   "source": [
    "a = eval('10*8')\n",
    "print(a)"
   ]
  },
  {
   "cell_type": "code",
   "execution_count": 1,
   "id": "7a096070",
   "metadata": {
    "scrolled": true
   },
   "outputs": [
    {
     "name": "stdout",
     "output_type": "stream",
     "text": [
      "Enter the first number:1\n",
      "Enter the second number: 5\n",
      "15\n"
     ]
    }
   ],
   "source": [
    "num = input('Enter the first number:')\n",
    "num1= input('Enter the second number: ')\n",
    "\n",
    "add = num + num1\n",
    "print(add)"
   ]
  },
  {
   "cell_type": "markdown",
   "id": "97b359a9",
   "metadata": {},
   "source": [
    "## Operators\n",
    "\n"
   ]
  },
  {
   "cell_type": "code",
   "execution_count": 53,
   "id": "6e27fb14",
   "metadata": {},
   "outputs": [
    {
     "name": "stdout",
     "output_type": "stream",
     "text": [
      "9\n",
      "1\n",
      "20\n",
      "1.25\n",
      "<class 'int'>\n",
      "625\n",
      "1\n"
     ]
    }
   ],
   "source": [
    "x = 5\n",
    "y = 4\n",
    "\n",
    "print(x + y)\n",
    "print(x - y)\n",
    "print(x * y)\n",
    "print(x/y)\n",
    "print(type(x//y))\n",
    "print(x**y)\n",
    "print(x%y)\n",
    "\n"
   ]
  },
  {
   "cell_type": "code",
   "execution_count": 8,
   "id": "63e1bf5e",
   "metadata": {},
   "outputs": [
    {
     "data": {
      "text/plain": [
       "3"
      ]
     },
     "execution_count": 8,
     "metadata": {},
     "output_type": "execute_result"
    }
   ],
   "source": [
    "round(2.7)"
   ]
  },
  {
   "cell_type": "markdown",
   "id": "f291cfaa",
   "metadata": {},
   "source": [
    "## Logical operators\n",
    "\n"
   ]
  },
  {
   "cell_type": "code",
   "execution_count": 13,
   "id": "fe63180b",
   "metadata": {
    "scrolled": true
   },
   "outputs": [
    {
     "name": "stdout",
     "output_type": "stream",
     "text": [
      "False\n",
      "True\n",
      "False\n"
     ]
    }
   ],
   "source": [
    "x = True\n",
    "y = False\n",
    "\n",
    "print(x and y) #multiplication (dot operator - both condition has to be true)\n",
    "print(x or y)  # Addition (Add operator any one of the condition to be true)\n",
    "print(not x)\n"
   ]
  },
  {
   "cell_type": "markdown",
   "id": "6b995755",
   "metadata": {},
   "source": [
    "## Assignment operators"
   ]
  },
  {
   "cell_type": "code",
   "execution_count": 40,
   "id": "1987af5b",
   "metadata": {},
   "outputs": [],
   "source": [
    "x1 = 15\n",
    "y1 = 15\n",
    "\n",
    "x2 = 'Hello'\n",
    "y2 = 'Hello'\n",
    "\n",
    "x3 = [15, 2, 3]\n",
    "y3 = [15, 2, 3]\n",
    "\n",
    "x4 = (1, 2, 3)\n",
    "y4 = (1, 2, 3)\n",
    "\n",
    "x5 = {1, 5, 8}\n",
    "y5 = {1, 5, 8}"
   ]
  },
  {
   "cell_type": "code",
   "execution_count": 25,
   "id": "9f8814f1",
   "metadata": {},
   "outputs": [
    {
     "name": "stdout",
     "output_type": "stream",
     "text": [
      "True\n"
     ]
    }
   ],
   "source": [
    "print(x1 is y1 )"
   ]
  },
  {
   "cell_type": "code",
   "execution_count": 18,
   "id": "489a72d7",
   "metadata": {},
   "outputs": [
    {
     "name": "stdout",
     "output_type": "stream",
     "text": [
      "False\n"
     ]
    }
   ],
   "source": [
    "print(x1 is not y1)"
   ]
  },
  {
   "cell_type": "code",
   "execution_count": 36,
   "id": "d1331ca9",
   "metadata": {},
   "outputs": [
    {
     "name": "stdout",
     "output_type": "stream",
     "text": [
      "True\n"
     ]
    }
   ],
   "source": [
    "print(x2 is y2\n",
    "    )"
   ]
  },
  {
   "cell_type": "code",
   "execution_count": 20,
   "id": "58b4e47d",
   "metadata": {},
   "outputs": [
    {
     "name": "stdout",
     "output_type": "stream",
     "text": [
      "False\n"
     ]
    }
   ],
   "source": [
    "print(x3 is y3)"
   ]
  },
  {
   "cell_type": "code",
   "execution_count": 23,
   "id": "830e085d",
   "metadata": {},
   "outputs": [
    {
     "name": "stdout",
     "output_type": "stream",
     "text": [
      "False\n"
     ]
    }
   ],
   "source": [
    "print(x4 is y4)"
   ]
  },
  {
   "cell_type": "code",
   "execution_count": 29,
   "id": "11bd79ee",
   "metadata": {},
   "outputs": [
    {
     "name": "stdout",
     "output_type": "stream",
     "text": [
      "False\n"
     ]
    }
   ],
   "source": [
    "print(x5 is y5)"
   ]
  },
  {
   "cell_type": "code",
   "execution_count": 38,
   "id": "bb809787",
   "metadata": {},
   "outputs": [
    {
     "data": {
      "text/plain": [
       "(2630354823920, 2630354823920)"
      ]
     },
     "execution_count": 38,
     "metadata": {},
     "output_type": "execute_result"
    }
   ],
   "source": [
    "id(x1), id(y1) # id will provide the memory reference number"
   ]
  },
  {
   "cell_type": "code",
   "execution_count": 37,
   "id": "4d687b13",
   "metadata": {},
   "outputs": [
    {
     "data": {
      "text/plain": [
       "(2630432261296, 2630432261296)"
      ]
     },
     "execution_count": 37,
     "metadata": {},
     "output_type": "execute_result"
    }
   ],
   "source": [
    "id(x2), id(y2)"
   ]
  },
  {
   "cell_type": "markdown",
   "id": "a5ef0bcd",
   "metadata": {},
   "source": [
    "id(x3), id(y3)"
   ]
  },
  {
   "cell_type": "code",
   "execution_count": 33,
   "id": "a3d4d100",
   "metadata": {},
   "outputs": [
    {
     "data": {
      "text/plain": [
       "(2630427603968, 2630427604544)"
      ]
     },
     "execution_count": 33,
     "metadata": {},
     "output_type": "execute_result"
    }
   ],
   "source": [
    "id(x4), id(y4)"
   ]
  },
  {
   "cell_type": "code",
   "execution_count": 34,
   "id": "e428e012",
   "metadata": {
    "scrolled": true
   },
   "outputs": [
    {
     "data": {
      "text/plain": [
       "(2630432906816, 2630432907040)"
      ]
     },
     "execution_count": 34,
     "metadata": {},
     "output_type": "execute_result"
    }
   ],
   "source": [
    "id(x5), id(y5)"
   ]
  },
  {
   "cell_type": "code",
   "execution_count": 42,
   "id": "7e417b9f",
   "metadata": {},
   "outputs": [
    {
     "data": {
      "text/plain": [
       "(2630354823920, 2630354823920)"
      ]
     },
     "execution_count": 42,
     "metadata": {},
     "output_type": "execute_result"
    }
   ],
   "source": [
    "id(x3[0]), id(y3[0])"
   ]
  },
  {
   "cell_type": "markdown",
   "id": "e0707819",
   "metadata": {},
   "source": [
    "## Membership operators"
   ]
  },
  {
   "cell_type": "code",
   "execution_count": 53,
   "id": "20706736",
   "metadata": {},
   "outputs": [],
   "source": [
    "x ='Hello world'\n",
    "y = {10: 'a', 15:'b' , 12:'1'}\n"
   ]
  },
  {
   "cell_type": "code",
   "execution_count": 55,
   "id": "7ee72afb",
   "metadata": {},
   "outputs": [
    {
     "data": {
      "text/plain": [
       "'1'"
      ]
     },
     "execution_count": 55,
     "metadata": {},
     "output_type": "execute_result"
    }
   ],
   "source": [
    "y[12]"
   ]
  },
  {
   "cell_type": "code",
   "execution_count": 49,
   "id": "e1bf8af6",
   "metadata": {},
   "outputs": [
    {
     "name": "stdout",
     "output_type": "stream",
     "text": [
      "True\n"
     ]
    }
   ],
   "source": [
    "print('H' in x)"
   ]
  },
  {
   "cell_type": "code",
   "execution_count": 46,
   "id": "0cabc85c",
   "metadata": {},
   "outputs": [
    {
     "name": "stdout",
     "output_type": "stream",
     "text": [
      "True\n"
     ]
    }
   ],
   "source": [
    "print('hello' not in x)"
   ]
  },
  {
   "cell_type": "code",
   "execution_count": 47,
   "id": "ec8a1c9a",
   "metadata": {},
   "outputs": [
    {
     "name": "stdout",
     "output_type": "stream",
     "text": [
      "True\n"
     ]
    }
   ],
   "source": [
    "print(10 in y) # dict will only refer Key"
   ]
  },
  {
   "cell_type": "code",
   "execution_count": 49,
   "id": "9ce4b970",
   "metadata": {},
   "outputs": [
    {
     "name": "stdout",
     "output_type": "stream",
     "text": [
      "False\n"
     ]
    }
   ],
   "source": [
    "print('a' in y) # dict will not refer value"
   ]
  },
  {
   "cell_type": "markdown",
   "id": "d4213864",
   "metadata": {},
   "source": [
    "## If statement"
   ]
  },
  {
   "cell_type": "code",
   "execution_count": 57,
   "id": "b8f55245",
   "metadata": {},
   "outputs": [
    {
     "name": "stdout",
     "output_type": "stream",
     "text": [
      "Enter the value5\n",
      "Positive\n"
     ]
    }
   ],
   "source": [
    "num = int(input('Enter the value'))\n",
    "if num >= 0:\n",
    "    print('Positive')\n",
    "else:   \n",
    "    print('Negative')"
   ]
  },
  {
   "cell_type": "markdown",
   "id": "179cc9fe",
   "metadata": {},
   "source": [
    "## If else"
   ]
  },
  {
   "cell_type": "code",
   "execution_count": 4,
   "id": "46dce074",
   "metadata": {},
   "outputs": [
    {
     "name": "stdout",
     "output_type": "stream",
     "text": [
      "Enter the value0\n",
      "Positive\n"
     ]
    }
   ],
   "source": [
    "num = int(input('Enter the value'))\n",
    "\n",
    "if num >= 0:\n",
    "    print('Positive')\n",
    "elif num == 0:\n",
    "    print('zero')\n",
    "else:   \n",
    "    print('Negative')"
   ]
  },
  {
   "cell_type": "markdown",
   "id": "528d62f5",
   "metadata": {},
   "source": [
    "## Nested if"
   ]
  },
  {
   "cell_type": "code",
   "execution_count": 59,
   "id": "d7ce6c6b",
   "metadata": {},
   "outputs": [
    {
     "name": "stdout",
     "output_type": "stream",
     "text": [
      "Enter the value:0\n",
      "Negative\n"
     ]
    }
   ],
   "source": [
    "num = int(input('Enter the value:'))\n",
    "\n",
    "if num >0:\n",
    "    if num == 0:\n",
    "        print('Zero')\n",
    "    else:\n",
    "        print('Positive')\n",
    "else:\n",
    "    print('Negative')"
   ]
  },
  {
   "cell_type": "markdown",
   "id": "96effb01",
   "metadata": {},
   "source": [
    "## For loop"
   ]
  },
  {
   "cell_type": "code",
   "execution_count": 11,
   "id": "1ae19ac2",
   "metadata": {},
   "outputs": [],
   "source": [
    "list = [1, 2, 3, 4, 5]"
   ]
  },
  {
   "cell_type": "code",
   "execution_count": 35,
   "id": "32698480",
   "metadata": {},
   "outputs": [],
   "source": [
    " del list"
   ]
  },
  {
   "cell_type": "code",
   "execution_count": 69,
   "id": "1ba563cd",
   "metadata": {},
   "outputs": [],
   "source": [
    "list1 = [5, 6, 8 , 10]"
   ]
  },
  {
   "cell_type": "code",
   "execution_count": 71,
   "id": "0b7faa57",
   "metadata": {},
   "outputs": [
    {
     "data": {
      "text/plain": [
       "10"
      ]
     },
     "execution_count": 71,
     "metadata": {},
     "output_type": "execute_result"
    }
   ],
   "source": [
    "list1[3]"
   ]
  },
  {
   "cell_type": "code",
   "execution_count": 14,
   "id": "954860c4",
   "metadata": {},
   "outputs": [
    {
     "data": {
      "text/plain": [
       "3"
      ]
     },
     "execution_count": 14,
     "metadata": {},
     "output_type": "execute_result"
    }
   ],
   "source": [
    "list[2]"
   ]
  },
  {
   "cell_type": "code",
   "execution_count": 15,
   "id": "9686569d",
   "metadata": {},
   "outputs": [],
   "source": [
    "list[0] =10"
   ]
  },
  {
   "cell_type": "code",
   "execution_count": 16,
   "id": "6d48e036",
   "metadata": {},
   "outputs": [
    {
     "data": {
      "text/plain": [
       "[10, 2, 3, 4, 5]"
      ]
     },
     "execution_count": 16,
     "metadata": {},
     "output_type": "execute_result"
    }
   ],
   "source": [
    "list"
   ]
  },
  {
   "cell_type": "code",
   "execution_count": 17,
   "id": "a23de8e6",
   "metadata": {},
   "outputs": [
    {
     "ename": "TypeError",
     "evalue": "'list' object is not callable",
     "output_type": "error",
     "traceback": [
      "\u001b[1;31m---------------------------------------------------------------------------\u001b[0m",
      "\u001b[1;31mTypeError\u001b[0m                                 Traceback (most recent call last)",
      "\u001b[1;32m~\\AppData\\Local\\Temp/ipykernel_7964/4089855967.py\u001b[0m in \u001b[0;36m<module>\u001b[1;34m\u001b[0m\n\u001b[1;32m----> 1\u001b[1;33m \u001b[0mlist\u001b[0m\u001b[1;33m(\u001b[0m\u001b[1;33m[\u001b[0m\u001b[1;36m1\u001b[0m\u001b[1;33m,\u001b[0m \u001b[1;36m52\u001b[0m\u001b[1;33m,\u001b[0m \u001b[1;36m32\u001b[0m\u001b[1;33m]\u001b[0m\u001b[1;33m)\u001b[0m\u001b[1;33m\u001b[0m\u001b[1;33m\u001b[0m\u001b[0m\n\u001b[0m",
      "\u001b[1;31mTypeError\u001b[0m: 'list' object is not callable"
     ]
    }
   ],
   "source": [
    "list([1, 52, 32])"
   ]
  },
  {
   "cell_type": "code",
   "execution_count": 29,
   "id": "595fa0a2",
   "metadata": {},
   "outputs": [],
   "source": [
    "var_list = [5, 21, 63]"
   ]
  },
  {
   "cell_type": "code",
   "execution_count": 24,
   "id": "d39637f7",
   "metadata": {},
   "outputs": [
    {
     "data": {
      "text/plain": [
       "list"
      ]
     },
     "execution_count": 24,
     "metadata": {},
     "output_type": "execute_result"
    }
   ],
   "source": [
    "type(var_list)"
   ]
  },
  {
   "cell_type": "code",
   "execution_count": 36,
   "id": "267acb5b",
   "metadata": {},
   "outputs": [
    {
     "data": {
      "text/plain": [
       "[5, 21, 63]"
      ]
     },
     "execution_count": 36,
     "metadata": {},
     "output_type": "execute_result"
    }
   ],
   "source": [
    "list([5, 21, 63])"
   ]
  },
  {
   "cell_type": "code",
   "execution_count": 43,
   "id": "08dc1664",
   "metadata": {},
   "outputs": [
    {
     "name": "stdout",
     "output_type": "stream",
     "text": [
      "12\n",
      "25\n",
      "39\n",
      "54\n",
      "The final value of add is 54\n"
     ]
    }
   ],
   "source": [
    "list1 = [12, 13, 14, 15]\n",
    "add = 0\n",
    "\n",
    "for i in list1:\n",
    "    add = add + i\n",
    "    print(add)\n",
    "print('The final value of add is' , add)"
   ]
  },
  {
   "cell_type": "code",
   "execution_count": 49,
   "id": "d8b2ce2a",
   "metadata": {},
   "outputs": [
    {
     "name": "stdout",
     "output_type": "stream",
     "text": [
      "12\n",
      "13\n"
     ]
    }
   ],
   "source": [
    "list1 = [12, 13, 14, 15]\n",
    "add = 0\n",
    "for i in list1:\n",
    "    if i ==14:\n",
    "        break\n",
    "    print(i)"
   ]
  },
  {
   "cell_type": "markdown",
   "id": "c6c991da",
   "metadata": {},
   "source": [
    "## Fourth class (13-02-2022)"
   ]
  },
  {
   "cell_type": "code",
   "execution_count": 3,
   "id": "43064bdf",
   "metadata": {},
   "outputs": [
    {
     "data": {
      "text/plain": [
       "3"
      ]
     },
     "execution_count": 3,
     "metadata": {},
     "output_type": "execute_result"
    }
   ],
   "source": [
    "list_city =['Chennai','kolkata','Mumbai']\n",
    "len(list_city)"
   ]
  },
  {
   "cell_type": "code",
   "execution_count": 4,
   "id": "cfcbf04e",
   "metadata": {},
   "outputs": [
    {
     "name": "stdout",
     "output_type": "stream",
     "text": [
      "I like to go to:  Chennai\n",
      "I like to go to:  kolkata\n",
      "I like to go to:  Mumbai\n"
     ]
    }
   ],
   "source": [
    "for i in range(len(list_city)):\n",
    "    print('I like to go to: ', list_city[i])"
   ]
  },
  {
   "cell_type": "code",
   "execution_count": 6,
   "id": "9278a6af",
   "metadata": {},
   "outputs": [
    {
     "name": "stdout",
     "output_type": "stream",
     "text": [
      "I have 1 days\n",
      "I have 10 days\n",
      "I have 100 days\n",
      "Else block\n"
     ]
    }
   ],
   "source": [
    "num =[1, 10, 100]\n",
    "\n",
    "for i in num:\n",
    "    print('I have' , i, 'days')\n",
    "else:\n",
    "    print('Else block')"
   ]
  },
  {
   "cell_type": "code",
   "execution_count": 15,
   "id": "556d3562",
   "metadata": {},
   "outputs": [
    {
     "name": "stdout",
     "output_type": "stream",
     "text": [
      "the number is:  1\n",
      "the number is:  10\n"
     ]
    }
   ],
   "source": [
    "num =[1, 10, 100]\n",
    "\n",
    "for i in num:\n",
    "    if i==100:\n",
    "        break\n",
    "    print('the number is: ', i)    \n",
    "    \n",
    "else:  \n",
    "    print('I have', i, 'days')\n",
    "    "
   ]
  },
  {
   "cell_type": "markdown",
   "id": "8a887210",
   "metadata": {},
   "source": [
    "\n",
    "## While loop\n"
   ]
  },
  {
   "cell_type": "code",
   "execution_count": 75,
   "id": "ff98b23f",
   "metadata": {},
   "outputs": [
    {
     "ename": "IndentationError",
     "evalue": "unexpected indent (Temp/ipykernel_13672/3056159168.py, line 8)",
     "output_type": "error",
     "traceback": [
      "\u001b[1;36m  File \u001b[1;32m\"C:\\Users\\Laksh\\AppData\\Local\\Temp/ipykernel_13672/3056159168.py\"\u001b[1;36m, line \u001b[1;32m8\u001b[0m\n\u001b[1;33m    print(i)\u001b[0m\n\u001b[1;37m    ^\u001b[0m\n\u001b[1;31mIndentationError\u001b[0m\u001b[1;31m:\u001b[0m unexpected indent\n"
     ]
    }
   ],
   "source": [
    "num = int(input('enter the number'))\n",
    "\n",
    "i= 0\n",
    "sum_var = 0\n",
    "\n",
    "while i < num:\n",
    "    sum_var = sum_var + i\n",
    "      print(i)\n",
    "    i= i + 1\n",
    "  \n",
    "\n",
    "    \n",
    "print('the sum of number is :' ,sum_var)\n",
    "\n",
    "    "
   ]
  },
  {
   "cell_type": "markdown",
   "id": "7f1b0f79",
   "metadata": {},
   "source": [
    "## Break, continue and pass"
   ]
  },
  {
   "cell_type": "code",
   "execution_count": 76,
   "id": "43ee046b",
   "metadata": {},
   "outputs": [
    {
     "ename": "TypeError",
     "evalue": "'<' not supported between instances of 'int' and 'list'",
     "output_type": "error",
     "traceback": [
      "\u001b[1;31m---------------------------------------------------------------------------\u001b[0m",
      "\u001b[1;31mTypeError\u001b[0m                                 Traceback (most recent call last)",
      "\u001b[1;32m~\\AppData\\Local\\Temp/ipykernel_13672/3311301571.py\u001b[0m in \u001b[0;36m<module>\u001b[1;34m\u001b[0m\n\u001b[0;32m      2\u001b[0m \u001b[0msum_var\u001b[0m \u001b[1;33m=\u001b[0m \u001b[1;36m0\u001b[0m\u001b[1;33m\u001b[0m\u001b[1;33m\u001b[0m\u001b[0m\n\u001b[0;32m      3\u001b[0m \u001b[1;33m\u001b[0m\u001b[0m\n\u001b[1;32m----> 4\u001b[1;33m \u001b[1;32mwhile\u001b[0m \u001b[0mi\u001b[0m \u001b[1;33m<\u001b[0m \u001b[0mnum\u001b[0m\u001b[1;33m:\u001b[0m\u001b[1;33m\u001b[0m\u001b[1;33m\u001b[0m\u001b[0m\n\u001b[0m\u001b[0;32m      5\u001b[0m     \u001b[0mi\u001b[0m \u001b[1;33m=\u001b[0m \u001b[0mi\u001b[0m \u001b[1;33m+\u001b[0m \u001b[1;36m1\u001b[0m\u001b[1;33m\u001b[0m\u001b[1;33m\u001b[0m\u001b[0m\n\u001b[0;32m      6\u001b[0m \u001b[1;32melse\u001b[0m\u001b[1;33m:\u001b[0m\u001b[1;33m\u001b[0m\u001b[1;33m\u001b[0m\u001b[0m\n",
      "\u001b[1;31mTypeError\u001b[0m: '<' not supported between instances of 'int' and 'list'"
     ]
    }
   ],
   "source": [
    "i = 0\n",
    "sum_var = 0\n",
    "\n",
    "while i < num:\n",
    "    i = i + 1\n",
    "else:\n",
    "    print(i)"
   ]
  },
  {
   "cell_type": "code",
   "execution_count": 9,
   "id": "455816b7",
   "metadata": {},
   "outputs": [
    {
     "name": "stdout",
     "output_type": "stream",
     "text": [
      "C\n",
      "o\n",
      "u\n",
      "n\n",
      "t\n"
     ]
    }
   ],
   "source": [
    "for i in 'Country':\n",
    "    if i == 'r':\n",
    "        break\n",
    "    print(i)    \n"
   ]
  },
  {
   "cell_type": "code",
   "execution_count": 10,
   "id": "01610acb",
   "metadata": {},
   "outputs": [
    {
     "name": "stdout",
     "output_type": "stream",
     "text": [
      "C\n",
      "o\n",
      "u\n",
      "n\n",
      "t\n",
      "y\n"
     ]
    }
   ],
   "source": [
    "for i in 'Country':\n",
    "    if i == 'r':\n",
    "        continue\n",
    "    print(i)   "
   ]
  },
  {
   "cell_type": "code",
   "execution_count": 10,
   "id": "8d0e70f9",
   "metadata": {},
   "outputs": [],
   "source": [
    "#pass statement explanation\n",
    "\n",
    "list_var =['p', 'a', 's', 's']\n",
    "\n",
    "for i in list_var:\n",
    "    pass # add some logic later"
   ]
  },
  {
   "cell_type": "markdown",
   "id": "e117d66b",
   "metadata": {},
   "source": [
    "## Functions"
   ]
  },
  {
   "cell_type": "code",
   "execution_count": 10,
   "id": "7dbd1e57",
   "metadata": {},
   "outputs": [],
   "source": [
    "def greetings(name):\n",
    "    \"\"\"Function to greet some one\"\"\"\n",
    "    print(\"Hello\", name, \"how're you\")"
   ]
  },
  {
   "cell_type": "code",
   "execution_count": 11,
   "id": "6f54579a",
   "metadata": {
    "scrolled": true
   },
   "outputs": [
    {
     "name": "stdout",
     "output_type": "stream",
     "text": [
      "Hello guys how're you\n"
     ]
    }
   ],
   "source": [
    "greetings('guys')"
   ]
  },
  {
   "cell_type": "code",
   "execution_count": 7,
   "id": "57bf06e3",
   "metadata": {},
   "outputs": [
    {
     "name": "stdout",
     "output_type": "stream",
     "text": [
      "Function to greet some one\n"
     ]
    }
   ],
   "source": [
    "print(greetings.__doc__)"
   ]
  },
  {
   "cell_type": "code",
   "execution_count": 18,
   "id": "62034008",
   "metadata": {},
   "outputs": [],
   "source": [
    "def absolute_val(value):\n",
    "    \"\"\"Funtion to reture the absolute value\"\"\"\n",
    "    if value >0:\n",
    "        return value\n",
    "    else:\n",
    "        return - value\n"
   ]
  },
  {
   "cell_type": "code",
   "execution_count": 20,
   "id": "e7afcd43",
   "metadata": {},
   "outputs": [
    {
     "data": {
      "text/plain": [
       "50"
      ]
     },
     "execution_count": 20,
     "metadata": {},
     "output_type": "execute_result"
    }
   ],
   "source": [
    "absolute_val(-50)"
   ]
  },
  {
   "cell_type": "code",
   "execution_count": 25,
   "id": "8651cf68",
   "metadata": {},
   "outputs": [
    {
     "name": "stdout",
     "output_type": "stream",
     "text": [
      "Inside the funtion 10\n",
      "outside the function 20\n"
     ]
    }
   ],
   "source": [
    "def func():\n",
    "    a=10 #local variable\n",
    "    print('Inside the funtion', a)\n",
    "a=20 #global variable\n",
    "func()\n",
    "\n",
    "print('outside the function', a)"
   ]
  },
  {
   "cell_type": "markdown",
   "id": "eafc0443",
   "metadata": {},
   "source": [
    "## Function arguments"
   ]
  },
  {
   "cell_type": "markdown",
   "id": "1d9d967f",
   "metadata": {},
   "source": [
    "### positional arguments"
   ]
  },
  {
   "cell_type": "code",
   "execution_count": 27,
   "id": "4c54ec92",
   "metadata": {},
   "outputs": [],
   "source": [
    "def greet(arg1, arg2):\n",
    "    \"\"\" Function with arguments\"\"\"\n",
    "    print(arg1, arg2, 'everyone!')"
   ]
  },
  {
   "cell_type": "code",
   "execution_count": 29,
   "id": "76f71a5c",
   "metadata": {},
   "outputs": [
    {
     "name": "stdout",
     "output_type": "stream",
     "text": [
      "Good Evening everyone!\n"
     ]
    }
   ],
   "source": [
    "greet('Good','Evening')"
   ]
  },
  {
   "cell_type": "markdown",
   "id": "8cd3da7c",
   "metadata": {},
   "source": [
    "### Default arguments"
   ]
  },
  {
   "cell_type": "code",
   "execution_count": 31,
   "id": "692e5c70",
   "metadata": {},
   "outputs": [],
   "source": [
    "def greet(arg1, arg2 = \"Good morning\"):\n",
    "    print(\"Hello\",arg1,arg2)"
   ]
  },
  {
   "cell_type": "code",
   "execution_count": 32,
   "id": "7deaad85",
   "metadata": {},
   "outputs": [
    {
     "name": "stdout",
     "output_type": "stream",
     "text": [
      "Hello people Good morning\n"
     ]
    }
   ],
   "source": [
    "greet('people')"
   ]
  },
  {
   "cell_type": "code",
   "execution_count": 33,
   "id": "5785d7c0",
   "metadata": {},
   "outputs": [
    {
     "name": "stdout",
     "output_type": "stream",
     "text": [
      "Hello people How are you\n"
     ]
    }
   ],
   "source": [
    "greet('people',\"How are you\")"
   ]
  },
  {
   "cell_type": "code",
   "execution_count": 36,
   "id": "196e3228",
   "metadata": {},
   "outputs": [
    {
     "ename": "SyntaxError",
     "evalue": "non-default argument follows default argument (Temp/ipykernel_5620/2419687821.py, line 1)",
     "output_type": "error",
     "traceback": [
      "\u001b[1;36m  File \u001b[1;32m\"C:\\Users\\Laksh\\AppData\\Local\\Temp/ipykernel_5620/2419687821.py\"\u001b[1;36m, line \u001b[1;32m1\u001b[0m\n\u001b[1;33m    def greet(arg2 =\" Good Morning\", arg1):\u001b[0m\n\u001b[1;37m                                         ^\u001b[0m\n\u001b[1;31mSyntaxError\u001b[0m\u001b[1;31m:\u001b[0m non-default argument follows default argument\n"
     ]
    }
   ],
   "source": [
    "def greet(arg2 =\" Good Morning\", arg1):\n",
    "    print(\"hello\", arg2, arg1)"
   ]
  },
  {
   "cell_type": "code",
   "execution_count": 49,
   "id": "cd5aa028",
   "metadata": {},
   "outputs": [
    {
     "ename": "SyntaxError",
     "evalue": "non-default argument follows default argument (Temp/ipykernel_5620/3991349332.py, line 1)",
     "output_type": "error",
     "traceback": [
      "\u001b[1;36m  File \u001b[1;32m\"C:\\Users\\Laksh\\AppData\\Local\\Temp/ipykernel_5620/3991349332.py\"\u001b[1;36m, line \u001b[1;32m1\u001b[0m\n\u001b[1;33m    def greet(arg2 =\" Good Morning\", arg1):\u001b[0m\n\u001b[1;37m                                         ^\u001b[0m\n\u001b[1;31mSyntaxError\u001b[0m\u001b[1;31m:\u001b[0m non-default argument follows default argument\n"
     ]
    }
   ],
   "source": [
    "def greet(arg2 =\" Good Morning\", arg1):\n",
    "    print(\"hello\", arg2)\n"
   ]
  },
  {
   "cell_type": "markdown",
   "id": "1b0f81f6",
   "metadata": {},
   "source": [
    "## Keyword Arguments"
   ]
  },
  {
   "cell_type": "code",
   "execution_count": 39,
   "id": "7640987e",
   "metadata": {},
   "outputs": [
    {
     "name": "stdout",
     "output_type": "stream",
     "text": [
      "Hello Hi Everyone\n",
      "Hello Hi everyone\n",
      "Hello Hi Everyone\n"
     ]
    }
   ],
   "source": [
    "greet(arg1 = \"Hi\", arg2 =\"Everyone\")\n",
    "greet(arg2 = \"everyone\", arg1 =\"Hi\")\n",
    "greet(\"Hi\", arg2 =\"Everyone\")"
   ]
  },
  {
   "cell_type": "code",
   "execution_count": 53,
   "id": "19d183dd",
   "metadata": {},
   "outputs": [
    {
     "name": "stdout",
     "output_type": "stream",
     "text": [
      "arg1 Hi\n"
     ]
    }
   ],
   "source": [
    "greet(\"Hi\", \"Everyone\")"
   ]
  },
  {
   "cell_type": "markdown",
   "id": "49901b20",
   "metadata": {},
   "source": [
    " ## Recursion"
   ]
  },
  {
   "cell_type": "code",
   "execution_count": null,
   "id": "3d35abd4",
   "metadata": {},
   "outputs": [],
   "source": [
    "factorial of a number\n",
    "5!\n",
    "\n"
   ]
  },
  {
   "cell_type": "code",
   "execution_count": 59,
   "id": "349bb8ea",
   "metadata": {},
   "outputs": [
    {
     "data": {
      "text/plain": [
       "120"
      ]
     },
     "execution_count": 59,
     "metadata": {},
     "output_type": "execute_result"
    }
   ],
   "source": [
    "5 * 4 * 3 * 2 * 1"
   ]
  },
  {
   "cell_type": "code",
   "execution_count": 66,
   "id": "b635613e",
   "metadata": {},
   "outputs": [
    {
     "name": "stdout",
     "output_type": "stream",
     "text": [
      "Factorial of 5 is 120\n"
     ]
    }
   ],
   "source": [
    "def recursion(x):\n",
    "    if x == 1:\n",
    "        return x\n",
    "    else:\n",
    "        return (x * recursion(x-1))\n",
    "x = 5\n",
    "print('Factorial of', x, 'is', recursion(x))"
   ]
  },
  {
   "cell_type": "markdown",
   "id": "cdf30646",
   "metadata": {},
   "source": [
    "## Lambda Function - Anonymous funtion"
   ]
  },
  {
   "cell_type": "code",
   "execution_count": 68,
   "id": "8f22d68c",
   "metadata": {},
   "outputs": [
    {
     "data": {
      "text/plain": [
       "8"
      ]
     },
     "execution_count": 68,
     "metadata": {},
     "output_type": "execute_result"
    }
   ],
   "source": [
    "cube = lambda x : x * x * x\n",
    "cube(2)\n"
   ]
  },
  {
   "cell_type": "code",
   "execution_count": 70,
   "id": "537ac784",
   "metadata": {
    "scrolled": true
   },
   "outputs": [
    {
     "data": {
      "text/plain": [
       "500.0"
      ]
     },
     "execution_count": 70,
     "metadata": {},
     "output_type": "execute_result"
    }
   ],
   "source": [
    "cube = lambda x, y : (x* x * x) /(y) \n",
    "cube(10,2)"
   ]
  },
  {
   "cell_type": "markdown",
   "id": "0a9ec58c",
   "metadata": {},
   "source": [
    "## Filter"
   ]
  },
  {
   "cell_type": "markdown",
   "id": "41f4d84b",
   "metadata": {},
   "source": [
    "- Filter takes in a funtion and a list of argument\n",
    "- The function is called with the items in the list, and a new list is returned containing the items for which the functions evalutes to True"
   ]
  },
  {
   "cell_type": "code",
   "execution_count": 77,
   "id": "e70a172e",
   "metadata": {},
   "outputs": [
    {
     "name": "stdout",
     "output_type": "stream",
     "text": [
      "[0, 1, 2, 3, 4, 5, 6, 7, 8, 9]\n"
     ]
    }
   ],
   "source": [
    "my_list = list(range(10))\n",
    "print(my_list)"
   ]
  },
  {
   "cell_type": "code",
   "execution_count": 79,
   "id": "4e75faab",
   "metadata": {},
   "outputs": [
    {
     "name": "stdout",
     "output_type": "stream",
     "text": [
      "Applyting the filter operation: [0, 2, 4, 6, 8]\n"
     ]
    }
   ],
   "source": [
    "fil = list(filter(lambda x :x % 2 == 0, my_list))\n",
    "print('Applyting the filter operation:',fil)"
   ]
  },
  {
   "cell_type": "markdown",
   "id": "02df3f12",
   "metadata": {},
   "source": [
    "## Map"
   ]
  },
  {
   "cell_type": "markdown",
   "id": "c3ab7231",
   "metadata": {},
   "source": [
    "- Filter takes in a funtion and a list of argumenent\n",
    "- Every items in the list will be returned based on the funtion that we're performing\n"
   ]
  },
  {
   "cell_type": "code",
   "execution_count": 89,
   "id": "fe94dc73",
   "metadata": {},
   "outputs": [
    {
     "name": "stdout",
     "output_type": "stream",
     "text": [
      "[2, 10, 8, 12, 16, 22, 6, 24]\n"
     ]
    }
   ],
   "source": [
    "my_list = [1, 5, 4, 6, 8, 11, 3, 12]\n",
    "new_list = list(map(lambda x: x * 2, my_list))\n",
    "print(new_list)\n"
   ]
  },
  {
   "cell_type": "code",
   "execution_count": 2,
   "id": "1692eee2",
   "metadata": {},
   "outputs": [
    {
     "name": "stdout",
     "output_type": "stream",
     "text": [
      "['A', 'B', 'C']\n"
     ]
    }
   ],
   "source": [
    "fill1 = list(map(lambda x : x.upper(),['a','b','c']))\n",
    "print(fill1)"
   ]
  },
  {
   "cell_type": "code",
   "execution_count": 3,
   "id": "086dd9e9",
   "metadata": {},
   "outputs": [
    {
     "name": "stdout",
     "output_type": "stream",
     "text": [
      "[20, 30, 40, 50]\n"
     ]
    }
   ],
   "source": [
    "my_dict = {10: 'B', 20: 'A', 30: 'A', 40: 'B', 50: 'A'}  \n",
    "filt1 = list((filter(lambda x : x > 10,my_dict)))\n",
    "print(filt1)"
   ]
  },
  {
   "cell_type": "code",
   "execution_count": 5,
   "id": "e903ed78",
   "metadata": {},
   "outputs": [
    {
     "name": "stdout",
     "output_type": "stream",
     "text": [
      "['a', 'e']\n"
     ]
    }
   ],
   "source": [
    "def fun(var):\n",
    "    letters = ['a', 'e', 'i', 'o', 'u']\n",
    "    if (var in letters):\n",
    "        return True\n",
    "    else:\n",
    "        return False\n",
    "seq = ['a', 'b', 'c', 'd', 'e']\n",
    "fil = list(filter(fun,seq))\n",
    "print (fil)"
   ]
  },
  {
   "cell_type": "markdown",
   "id": "c06325f9",
   "metadata": {},
   "source": [
    "## Fifth class (19-02-2022)"
   ]
  },
  {
   "cell_type": "markdown",
   "id": "cf2ebac4",
   "metadata": {},
   "source": [
    "## Global Variables"
   ]
  },
  {
   "cell_type": "code",
   "execution_count": 3,
   "id": "6446be15",
   "metadata": {},
   "outputs": [
    {
     "name": "stdout",
     "output_type": "stream",
     "text": [
      "Inside the function:  Global Variable\n",
      "outside the function: Global Variable\n"
     ]
    }
   ],
   "source": [
    "c = \"Global Variable\"\n",
    "\n",
    "def function1():\n",
    "    print('Inside the function: ', c)\n",
    "function1()\n",
    "print('outside the function:', c)"
   ]
  },
  {
   "cell_type": "code",
   "execution_count": 6,
   "id": "3a1e76fa",
   "metadata": {},
   "outputs": [
    {
     "name": "stdout",
     "output_type": "stream",
     "text": [
      "Inside\n"
     ]
    },
    {
     "ename": "NameError",
     "evalue": "name 'local_var' is not defined",
     "output_type": "error",
     "traceback": [
      "\u001b[1;31m---------------------------------------------------------------------------\u001b[0m",
      "\u001b[1;31mNameError\u001b[0m                                 Traceback (most recent call last)",
      "\u001b[1;32m~\\AppData\\Local\\Temp/ipykernel_14248/2168363479.py\u001b[0m in \u001b[0;36m<module>\u001b[1;34m\u001b[0m\n\u001b[0;32m      4\u001b[0m \u001b[1;33m\u001b[0m\u001b[0m\n\u001b[0;32m      5\u001b[0m \u001b[0mfunction2\u001b[0m\u001b[1;33m(\u001b[0m\u001b[1;33m)\u001b[0m\u001b[1;33m\u001b[0m\u001b[1;33m\u001b[0m\u001b[0m\n\u001b[1;32m----> 6\u001b[1;33m \u001b[0mlocal_var\u001b[0m\u001b[1;33m\u001b[0m\u001b[1;33m\u001b[0m\u001b[0m\n\u001b[0m",
      "\u001b[1;31mNameError\u001b[0m: name 'local_var' is not defined"
     ]
    }
   ],
   "source": [
    "def function2():\n",
    "    local_var =\"Inside\"\n",
    "    print(local_var)\n",
    "    \n",
    "function2()\n",
    "local_var"
   ]
  },
  {
   "cell_type": "markdown",
   "id": "12610375",
   "metadata": {},
   "source": [
    "## Local and global in same code"
   ]
  },
  {
   "cell_type": "code",
   "execution_count": 17,
   "id": "b6145eed",
   "metadata": {},
   "outputs": [],
   "source": [
    "var = 20\n",
    "\n",
    "def glob_var_eg():\n",
    "    y = 10\n",
    "    global var\n",
    "    var = var * 5\n",
    "    print(' This is my local variable:' , y)\n",
    "    print(' This is my local variable:' , var)\n",
    "var1 =10\n",
    "def glob_var1_eg():\n",
    "    y = 100\n",
    "    global var1\n",
    "    var1 = var1 * 10\n",
    "    print(' This is my local variable:' , y)\n",
    "    print(' This is my local variable:' , var1)"
   ]
  },
  {
   "cell_type": "code",
   "execution_count": 8,
   "id": "8cef3642",
   "metadata": {},
   "outputs": [
    {
     "name": "stdout",
     "output_type": "stream",
     "text": [
      " This is my local variable: 10\n",
      " This is my local variable: 100\n"
     ]
    }
   ],
   "source": [
    "glob_var_eg()"
   ]
  },
  {
   "cell_type": "code",
   "execution_count": 9,
   "id": "d3d46d8d",
   "metadata": {},
   "outputs": [
    {
     "data": {
      "text/plain": [
       "100"
      ]
     },
     "execution_count": 9,
     "metadata": {},
     "output_type": "execute_result"
    }
   ],
   "source": [
    "var"
   ]
  },
  {
   "cell_type": "code",
   "execution_count": 18,
   "id": "e803de8b",
   "metadata": {},
   "outputs": [
    {
     "name": "stdout",
     "output_type": "stream",
     "text": [
      " This is my local variable: 100\n",
      " This is my local variable: 100\n"
     ]
    }
   ],
   "source": [
    "glob_var1_eg()"
   ]
  },
  {
   "cell_type": "code",
   "execution_count": 19,
   "id": "d3a8ea56",
   "metadata": {},
   "outputs": [
    {
     "data": {
      "text/plain": [
       "100"
      ]
     },
     "execution_count": 19,
     "metadata": {},
     "output_type": "execute_result"
    }
   ],
   "source": [
    "var1"
   ]
  },
  {
   "cell_type": "markdown",
   "id": "1e851ac6",
   "metadata": {},
   "source": [
    "## Nested indexing"
   ]
  },
  {
   "cell_type": "code",
   "execution_count": 20,
   "id": "f66f3209",
   "metadata": {},
   "outputs": [
    {
     "data": {
      "text/plain": [
       "[1, 2, [3, 4], ['five', 'six', 'seven']]"
      ]
     },
     "execution_count": 20,
     "metadata": {},
     "output_type": "execute_result"
    }
   ],
   "source": [
    "nested_list =[1,2,[3,4],['five', 'six', 'seven']]\n",
    "nested_list"
   ]
  },
  {
   "cell_type": "code",
   "execution_count": 27,
   "id": "abeaf70d",
   "metadata": {},
   "outputs": [
    {
     "data": {
      "text/plain": [
       "'seven'"
      ]
     },
     "execution_count": 27,
     "metadata": {},
     "output_type": "execute_result"
    }
   ],
   "source": [
    "nested_list[3][2]"
   ]
  },
  {
   "cell_type": "code",
   "execution_count": 25,
   "id": "477b202b",
   "metadata": {},
   "outputs": [
    {
     "data": {
      "text/plain": [
       "3"
      ]
     },
     "execution_count": 25,
     "metadata": {},
     "output_type": "execute_result"
    }
   ],
   "source": [
    "nested_list[-2][-2]"
   ]
  },
  {
   "cell_type": "markdown",
   "id": "c4b88780",
   "metadata": {},
   "source": [
    "## Append and extend"
   ]
  },
  {
   "cell_type": "code",
   "execution_count": 32,
   "id": "4fde8a2e",
   "metadata": {},
   "outputs": [
    {
     "name": "stdout",
     "output_type": "stream",
     "text": [
      "[5, 4, 3, 7]\n"
     ]
    }
   ],
   "source": [
    "list_1 = [5,4,3]\n",
    "list_1.append(7) # append is helping to add some value\n",
    "print(list_1)"
   ]
  },
  {
   "cell_type": "code",
   "execution_count": 33,
   "id": "34b312dc",
   "metadata": {},
   "outputs": [
    {
     "name": "stdout",
     "output_type": "stream",
     "text": [
      "[5, 4, 3, 7, 8, 5, 9]\n"
     ]
    }
   ],
   "source": [
    "list_1.extend([8,5,9]) # extend is helping to add some sets\n",
    "print(list_1)"
   ]
  },
  {
   "cell_type": "code",
   "execution_count": 34,
   "id": "9c9725a9",
   "metadata": {},
   "outputs": [
    {
     "name": "stdout",
     "output_type": "stream",
     "text": [
      "[15, 5, 4, 3, 7, 8, 5, 9]\n"
     ]
    }
   ],
   "source": [
    "var =15\n",
    "\n",
    "list_1.insert(0, var)\n",
    "print(list_1)"
   ]
  },
  {
   "cell_type": "code",
   "execution_count": null,
   "id": "48dff526",
   "metadata": {},
   "outputs": [],
   "source": []
  },
  {
   "cell_type": "code",
   "execution_count": null,
   "id": "c2cdb2c9",
   "metadata": {},
   "outputs": [],
   "source": []
  },
  {
   "cell_type": "markdown",
   "id": "a7f32a00",
   "metadata": {},
   "source": [
    "## List concatenation"
   ]
  },
  {
   "cell_type": "code",
   "execution_count": 36,
   "id": "15554450",
   "metadata": {},
   "outputs": [
    {
     "name": "stdout",
     "output_type": "stream",
     "text": [
      "[1, 3, 5, 9, 7, 6]\n"
     ]
    }
   ],
   "source": [
    "list1 = [1,3,5]\n",
    "print(list1 +[9,7,6])"
   ]
  },
  {
   "cell_type": "code",
   "execution_count": 35,
   "id": "295a1b5d",
   "metadata": {},
   "outputs": [
    {
     "name": "stdout",
     "output_type": "stream",
     "text": [
      "['five', 'five', 'five', 'five', 'five']\n"
     ]
    }
   ],
   "source": [
    "print(['five']*5)"
   ]
  },
  {
   "cell_type": "markdown",
   "id": "7cd1743c",
   "metadata": {},
   "source": [
    "## Remove and pop"
   ]
  },
  {
   "cell_type": "code",
   "execution_count": 48,
   "id": "df5075d7",
   "metadata": {},
   "outputs": [
    {
     "data": {
      "text/plain": [
       "['D', 'a', 't', 'a', 'S', 'c', 'i', 'e', 'n', 'c', 'e']"
      ]
     },
     "execution_count": 48,
     "metadata": {},
     "output_type": "execute_result"
    }
   ],
   "source": [
    "string = 'DataScience'\n",
    "list(string)"
   ]
  },
  {
   "cell_type": "code",
   "execution_count": 49,
   "id": "3592cfb1",
   "metadata": {},
   "outputs": [],
   "source": [
    "list1 =list(string)"
   ]
  },
  {
   "cell_type": "code",
   "execution_count": 50,
   "id": "8dd90647",
   "metadata": {},
   "outputs": [],
   "source": [
    "list1.remove('S')"
   ]
  },
  {
   "cell_type": "code",
   "execution_count": 51,
   "id": "08330aee",
   "metadata": {},
   "outputs": [
    {
     "data": {
      "text/plain": [
       "'e'"
      ]
     },
     "execution_count": 51,
     "metadata": {},
     "output_type": "execute_result"
    }
   ],
   "source": [
    "list1.pop()"
   ]
  },
  {
   "cell_type": "code",
   "execution_count": 52,
   "id": "69bbf775",
   "metadata": {},
   "outputs": [
    {
     "data": {
      "text/plain": [
       "['D', 'a', 't', 'a', 'c', 'i', 'e', 'n', 'c']"
      ]
     },
     "execution_count": 52,
     "metadata": {},
     "output_type": "execute_result"
    }
   ],
   "source": [
    "list1"
   ]
  },
  {
   "cell_type": "code",
   "execution_count": 53,
   "id": "4304406c",
   "metadata": {},
   "outputs": [
    {
     "name": "stdout",
     "output_type": "stream",
     "text": [
      "5\n"
     ]
    }
   ],
   "source": [
    "print(list1.index('i')) # index defines the position"
   ]
  },
  {
   "cell_type": "code",
   "execution_count": 55,
   "id": "34713388",
   "metadata": {},
   "outputs": [
    {
     "name": "stdout",
     "output_type": "stream",
     "text": [
      "2\n"
     ]
    }
   ],
   "source": [
    "print(list1.count('a'))"
   ]
  },
  {
   "cell_type": "code",
   "execution_count": 61,
   "id": "f893cb80",
   "metadata": {},
   "outputs": [
    {
     "name": "stdout",
     "output_type": "stream",
     "text": [
      "[0, 1, 4, 9, 16, 25, 36, 49, 64, 81]\n"
     ]
    }
   ],
   "source": [
    "list_1 = []\n",
    "for i in range(10):\n",
    "    list_1.append(i**2)\n",
    "print (list_1)\n"
   ]
  },
  {
   "cell_type": "code",
   "execution_count": 63,
   "id": "30c27caf",
   "metadata": {},
   "outputs": [
    {
     "data": {
      "text/plain": [
       "[0, 1, 4, 9, 16, 25, 36, 49, 64, 81]"
      ]
     },
     "execution_count": 63,
     "metadata": {},
     "output_type": "execute_result"
    }
   ],
   "source": [
    "[i**2 for i in range(10)] # list comprehension"
   ]
  },
  {
   "cell_type": "code",
   "execution_count": 64,
   "id": "db1ca7ff",
   "metadata": {
    "scrolled": true
   },
   "outputs": [
    {
     "data": {
      "text/plain": [
       "[0, 10, 20, 30, 40, 50, 60, 70, 80, 90]"
      ]
     },
     "execution_count": 64,
     "metadata": {},
     "output_type": "execute_result"
    }
   ],
   "source": [
    "[i for i in range(100) if i%2==0 and i%5==0]"
   ]
  },
  {
   "cell_type": "code",
   "execution_count": 65,
   "id": "5e5aeca7",
   "metadata": {},
   "outputs": [
    {
     "data": {
      "text/plain": [
       "['EVEN', 'ODD', 'EVEN', 'ODD', 'EVEN', 'ODD', 'EVEN', 'ODD', 'EVEN', 'ODD']"
      ]
     },
     "execution_count": 65,
     "metadata": {},
     "output_type": "execute_result"
    }
   ],
   "source": [
    "[\"EVEN\" if i%2==0 else \"ODD\" for i in range(10)]\n"
   ]
  },
  {
   "cell_type": "markdown",
   "id": "b29206e5",
   "metadata": {},
   "source": [
    "## Enumeratem - it will provide not only the list it will also provide the index"
   ]
  },
  {
   "cell_type": "code",
   "execution_count": 67,
   "id": "fc61307d",
   "metadata": {},
   "outputs": [
    {
     "data": {
      "text/plain": [
       "[(0, 'Data'), (1, 'Function'), (2, 'stats')]"
      ]
     },
     "execution_count": 67,
     "metadata": {},
     "output_type": "execute_result"
    }
   ],
   "source": [
    "x1 = ['Data', 'Function', 'stats']\n",
    "list(enumerate(x1))"
   ]
  },
  {
   "cell_type": "markdown",
   "id": "0cc0dfab",
   "metadata": {},
   "source": [
    "## Tuple operations"
   ]
  },
  {
   "cell_type": "code",
   "execution_count": 69,
   "id": "b07b9532",
   "metadata": {},
   "outputs": [
    {
     "name": "stdout",
     "output_type": "stream",
     "text": [
      "(3, 5.5, 'nine')\n"
     ]
    }
   ],
   "source": [
    "tuple1 = 3,5.5,'nine'\n",
    "print(tuple1)"
   ]
  },
  {
   "cell_type": "code",
   "execution_count": 70,
   "id": "b1547ba7",
   "metadata": {},
   "outputs": [
    {
     "data": {
      "text/plain": [
       "tuple"
      ]
     },
     "execution_count": 70,
     "metadata": {},
     "output_type": "execute_result"
    }
   ],
   "source": [
    "type(tuple1)"
   ]
  },
  {
   "cell_type": "markdown",
   "id": "57855c80",
   "metadata": {},
   "source": [
    "## Tuple unpacking"
   ]
  },
  {
   "cell_type": "code",
   "execution_count": 73,
   "id": "685cff5a",
   "metadata": {
    "scrolled": true
   },
   "outputs": [
    {
     "name": "stdout",
     "output_type": "stream",
     "text": [
      "3\n",
      "5.5\n",
      "nine\n"
     ]
    }
   ],
   "source": [
    "a,b,c = tuple1\n",
    "print(a)\n",
    "print(b)\n",
    "print(c)"
   ]
  },
  {
   "cell_type": "code",
   "execution_count": 74,
   "id": "051c9df6",
   "metadata": {},
   "outputs": [
    {
     "data": {
      "text/plain": [
       "str"
      ]
     },
     "execution_count": 74,
     "metadata": {},
     "output_type": "execute_result"
    }
   ],
   "source": [
    "tuple2 = ('tuple') # \n",
    "type(tuple2)"
   ]
  },
  {
   "cell_type": "code",
   "execution_count": 75,
   "id": "de2ba96d",
   "metadata": {},
   "outputs": [
    {
     "data": {
      "text/plain": [
       "str"
      ]
     },
     "execution_count": 75,
     "metadata": {},
     "output_type": "execute_result"
    }
   ],
   "source": [
    "string_va ='string'\n",
    "type(string_va)"
   ]
  },
  {
   "cell_type": "code",
   "execution_count": 77,
   "id": "a73e0974",
   "metadata": {},
   "outputs": [
    {
     "data": {
      "text/plain": [
       "tuple"
      ]
     },
     "execution_count": 77,
     "metadata": {},
     "output_type": "execute_result"
    }
   ],
   "source": [
    "tuple2 = 'tuple' ,\n",
    "\n",
    "type(tuple2)"
   ]
  },
  {
   "cell_type": "markdown",
   "id": "eb47c647",
   "metadata": {},
   "source": [
    "## Changing a tuple - if tuple contains a list, then tuple can changable"
   ]
  },
  {
   "cell_type": "code",
   "execution_count": 87,
   "id": "255780a6",
   "metadata": {},
   "outputs": [
    {
     "name": "stderr",
     "output_type": "stream",
     "text": [
      "<>:1: SyntaxWarning: 'int' object is not subscriptable; perhaps you missed a comma?\n",
      "<>:1: SyntaxWarning: 'int' object is not subscriptable; perhaps you missed a comma?\n",
      "C:\\Users\\Laksh\\AppData\\Local\\Temp/ipykernel_14632/611508413.py:1: SyntaxWarning: 'int' object is not subscriptable; perhaps you missed a comma?\n",
      "  tupl1  = (1,2[1,2,3])\n"
     ]
    },
    {
     "ename": "TypeError",
     "evalue": "'int' object is not subscriptable",
     "output_type": "error",
     "traceback": [
      "\u001b[1;31m---------------------------------------------------------------------------\u001b[0m",
      "\u001b[1;31mTypeError\u001b[0m                                 Traceback (most recent call last)",
      "\u001b[1;32m~\\AppData\\Local\\Temp/ipykernel_14632/611508413.py\u001b[0m in \u001b[0;36m<module>\u001b[1;34m\u001b[0m\n\u001b[1;32m----> 1\u001b[1;33m \u001b[0mtupl1\u001b[0m  \u001b[1;33m=\u001b[0m \u001b[1;33m(\u001b[0m\u001b[1;36m1\u001b[0m\u001b[1;33m,\u001b[0m\u001b[1;36m2\u001b[0m\u001b[1;33m[\u001b[0m\u001b[1;36m1\u001b[0m\u001b[1;33m,\u001b[0m\u001b[1;36m2\u001b[0m\u001b[1;33m,\u001b[0m\u001b[1;36m3\u001b[0m\u001b[1;33m]\u001b[0m\u001b[1;33m)\u001b[0m\u001b[1;33m\u001b[0m\u001b[1;33m\u001b[0m\u001b[0m\n\u001b[0m\u001b[0;32m      2\u001b[0m \u001b[0mtupl1\u001b[0m\u001b[1;33m[\u001b[0m\u001b[1;36m2\u001b[0m\u001b[1;33m]\u001b[0m\u001b[1;33m[\u001b[0m\u001b[1;36m0\u001b[0m\u001b[1;33m]\u001b[0m \u001b[1;33m=\u001b[0m \u001b[1;36m2\u001b[0m\u001b[1;33m\u001b[0m\u001b[1;33m\u001b[0m\u001b[0m\n\u001b[0;32m      3\u001b[0m \u001b[0mtupl1\u001b[0m\u001b[1;33m\u001b[0m\u001b[1;33m\u001b[0m\u001b[0m\n",
      "\u001b[1;31mTypeError\u001b[0m: 'int' object is not subscriptable"
     ]
    }
   ],
   "source": [
    "tupl1  = (1,2[1,2,3])\n",
    "tupl1[2][0] = 2\n",
    "tupl1"
   ]
  },
  {
   "cell_type": "markdown",
   "id": "acac3e08",
   "metadata": {},
   "source": [
    "## A \"set\"of mixed data types\n",
    "\n",
    "- We can add set in the set but list cannot be add"
   ]
  },
  {
   "cell_type": "code",
   "execution_count": 88,
   "id": "439deb24",
   "metadata": {},
   "outputs": [
    {
     "name": "stdout",
     "output_type": "stream",
     "text": [
      "{1.0, 'Hey', (2, 5, 8)}\n"
     ]
    }
   ],
   "source": [
    "my_set1 = {1.0, \"Hey\", (2,5,8)}\n",
    "print(my_set1)"
   ]
  },
  {
   "cell_type": "code",
   "execution_count": 92,
   "id": "c25e8a70",
   "metadata": {},
   "outputs": [
    {
     "ename": "TypeError",
     "evalue": "unhashable type: 'list'",
     "output_type": "error",
     "traceback": [
      "\u001b[1;31m---------------------------------------------------------------------------\u001b[0m",
      "\u001b[1;31mTypeError\u001b[0m                                 Traceback (most recent call last)",
      "\u001b[1;32m~\\AppData\\Local\\Temp/ipykernel_14632/3100396564.py\u001b[0m in \u001b[0;36m<module>\u001b[1;34m\u001b[0m\n\u001b[1;32m----> 1\u001b[1;33m \u001b[0mmy_set2\u001b[0m \u001b[1;33m=\u001b[0m \u001b[1;33m{\u001b[0m\u001b[1;36m1.0\u001b[0m\u001b[1;33m,\u001b[0m \u001b[1;34m\"Hello\"\u001b[0m\u001b[1;33m,\u001b[0m \u001b[1;33m[\u001b[0m\u001b[1;36m2\u001b[0m\u001b[1;33m,\u001b[0m\u001b[1;36m5\u001b[0m\u001b[1;33m,\u001b[0m\u001b[1;36m8\u001b[0m\u001b[1;33m]\u001b[0m\u001b[1;33m}\u001b[0m\u001b[1;33m\u001b[0m\u001b[1;33m\u001b[0m\u001b[0m\n\u001b[0m\u001b[0;32m      2\u001b[0m \u001b[0mprint\u001b[0m\u001b[1;33m(\u001b[0m\u001b[0mmy_set2\u001b[0m\u001b[1;33m)\u001b[0m\u001b[1;33m\u001b[0m\u001b[1;33m\u001b[0m\u001b[0m\n",
      "\u001b[1;31mTypeError\u001b[0m: unhashable type: 'list'"
     ]
    }
   ],
   "source": [
    "my_set2 = {1.0, \"Hello\", [2,5,8]}\n",
    "print(my_set2)"
   ]
  },
  {
   "cell_type": "code",
   "execution_count": 100,
   "id": "77d1a962",
   "metadata": {},
   "outputs": [
    {
     "name": "stdout",
     "output_type": "stream",
     "text": [
      "{0, 1, 4, 8, 9, 10}\n",
      "{0, 1, 4, 8, 9, 10}\n",
      "{0, 1, 8, 9, 10}\n"
     ]
    }
   ],
   "source": [
    "my_set = {1,8,9,4,0,10}\n",
    "print(my_set)\n",
    "\n",
    "my_set.discard(3) # discard will check even if it's not in set it will show the output \n",
    "print(my_set)\n",
    "\n",
    "my_set.remove(4)\n",
    "print(my_set)"
   ]
  },
  {
   "cell_type": "markdown",
   "id": "824e63b0",
   "metadata": {},
   "source": [
    "## Iterators\n",
    "\n",
    "- It has memory it will store the memory"
   ]
  },
  {
   "cell_type": "code",
   "execution_count": 106,
   "id": "b52275f6",
   "metadata": {},
   "outputs": [
    {
     "name": "stdout",
     "output_type": "stream",
     "text": [
      "2\n"
     ]
    }
   ],
   "source": [
    "my_list = [2,9,8,3]\n",
    "my_iter = iter(my_list)\n",
    "print(next(my_iter))"
   ]
  },
  {
   "cell_type": "code",
   "execution_count": 107,
   "id": "98529fe2",
   "metadata": {},
   "outputs": [
    {
     "name": "stdout",
     "output_type": "stream",
     "text": [
      "9\n"
     ]
    }
   ],
   "source": [
    "print(next(my_iter))"
   ]
  },
  {
   "cell_type": "code",
   "execution_count": 108,
   "id": "ddd8b020",
   "metadata": {},
   "outputs": [
    {
     "name": "stdout",
     "output_type": "stream",
     "text": [
      "8\n"
     ]
    }
   ],
   "source": [
    "print(next(my_iter))"
   ]
  },
  {
   "cell_type": "code",
   "execution_count": 109,
   "id": "4387f429",
   "metadata": {},
   "outputs": [
    {
     "name": "stdout",
     "output_type": "stream",
     "text": [
      "3\n"
     ]
    }
   ],
   "source": [
    "print(next(my_iter))\n"
   ]
  },
  {
   "cell_type": "code",
   "execution_count": 110,
   "id": "c87eba4a",
   "metadata": {},
   "outputs": [
    {
     "ename": "StopIteration",
     "evalue": "",
     "output_type": "error",
     "traceback": [
      "\u001b[1;31m---------------------------------------------------------------------------\u001b[0m",
      "\u001b[1;31mStopIteration\u001b[0m                             Traceback (most recent call last)",
      "\u001b[1;32m~\\AppData\\Local\\Temp/ipykernel_14632/1757294138.py\u001b[0m in \u001b[0;36m<module>\u001b[1;34m\u001b[0m\n\u001b[1;32m----> 1\u001b[1;33m \u001b[0mprint\u001b[0m\u001b[1;33m(\u001b[0m\u001b[0mnext\u001b[0m\u001b[1;33m(\u001b[0m\u001b[0mmy_iter\u001b[0m\u001b[1;33m)\u001b[0m\u001b[1;33m)\u001b[0m\u001b[1;33m\u001b[0m\u001b[1;33m\u001b[0m\u001b[0m\n\u001b[0m",
      "\u001b[1;31mStopIteration\u001b[0m: "
     ]
    }
   ],
   "source": [
    "print(next(my_iter))"
   ]
  },
  {
   "cell_type": "code",
   "execution_count": 111,
   "id": "f68d2105",
   "metadata": {},
   "outputs": [
    {
     "name": "stdout",
     "output_type": "stream",
     "text": [
      "2\n",
      "9\n",
      "8\n",
      "3\n"
     ]
    }
   ],
   "source": [
    "my_list = [2, 9, 8, 3]\n",
    "\n",
    "my_iter = iter(my_list)\n",
    "\n",
    "for i in range(len(my_list)):\n",
    "    print(next(my_iter))\n"
   ]
  },
  {
   "cell_type": "markdown",
   "id": "340b96bc",
   "metadata": {},
   "source": [
    "## Sixth class (20-02-2022)"
   ]
  },
  {
   "cell_type": "code",
   "execution_count": 3,
   "id": "d1f651f1",
   "metadata": {},
   "outputs": [],
   "source": [
    "def function1(*var):\n",
    "    for i in var:\n",
    "        print(\"I am in, :\", i)"
   ]
  },
  {
   "cell_type": "code",
   "execution_count": 4,
   "id": "e4952300",
   "metadata": {},
   "outputs": [
    {
     "name": "stdout",
     "output_type": "stream",
     "text": [
      "I am in, : Chennai\n",
      "I am in, : Hyderabad\n",
      "I am in, : Mumbai\n"
     ]
    }
   ],
   "source": [
    "function1('Chennai','Hyderabad','Mumbai')"
   ]
  },
  {
   "cell_type": "markdown",
   "id": "190fe8ce",
   "metadata": {},
   "source": [
    "## Generators"
   ]
  },
  {
   "cell_type": "code",
   "execution_count": null,
   "id": "735731b6",
   "metadata": {},
   "outputs": [],
   "source": [
    "#yield"
   ]
  },
  {
   "cell_type": "code",
   "execution_count": 17,
   "id": "9171baf8",
   "metadata": {},
   "outputs": [],
   "source": [
    "def generator_fun():\n",
    "    num = 1\n",
    "    print('The first number:, ')\n",
    "    yield num\n",
    "    num += 1 \n",
    "    print('The second number')\n",
    "    yield num\n",
    "    num += 1\n",
    "    print('The third number')\n",
    "    yield num\n",
    "    "
   ]
  },
  {
   "cell_type": "code",
   "execution_count": 18,
   "id": "fc36b48e",
   "metadata": {},
   "outputs": [
    {
     "data": {
      "text/plain": [
       "<generator object generator_fun at 0x000001C7BA5992E0>"
      ]
     },
     "execution_count": 18,
     "metadata": {},
     "output_type": "execute_result"
    }
   ],
   "source": [
    "generator_fun()"
   ]
  },
  {
   "cell_type": "code",
   "execution_count": 19,
   "id": "88bf2c2b",
   "metadata": {},
   "outputs": [],
   "source": [
    "var1 = generator_fun()\n"
   ]
  },
  {
   "cell_type": "code",
   "execution_count": 21,
   "id": "6c0d767c",
   "metadata": {},
   "outputs": [
    {
     "name": "stdout",
     "output_type": "stream",
     "text": [
      "The second number\n"
     ]
    },
    {
     "data": {
      "text/plain": [
       "2"
      ]
     },
     "execution_count": 21,
     "metadata": {},
     "output_type": "execute_result"
    }
   ],
   "source": [
    "next(var1)"
   ]
  },
  {
   "cell_type": "code",
   "execution_count": 22,
   "id": "b05548ef",
   "metadata": {},
   "outputs": [
    {
     "name": "stdout",
     "output_type": "stream",
     "text": [
      "The third number\n"
     ]
    },
    {
     "data": {
      "text/plain": [
       "3"
      ]
     },
     "execution_count": 22,
     "metadata": {},
     "output_type": "execute_result"
    }
   ],
   "source": [
    "next(var1)"
   ]
  },
  {
   "cell_type": "code",
   "execution_count": 25,
   "id": "853383b9",
   "metadata": {},
   "outputs": [
    {
     "name": "stdout",
     "output_type": "stream",
     "text": [
      "e\n"
     ]
    },
    {
     "data": {
      "text/plain": [
       "'e'"
      ]
     },
     "execution_count": 25,
     "metadata": {},
     "output_type": "execute_result"
    }
   ],
   "source": [
    "def generate_function(string):\n",
    "    for i in range(len(string)-1,0,-1):\n",
    "        print(string[i])\n",
    "        yield string[i]\n",
    "string = 'Data Science'\n",
    "var2 = generate_function(string)\n",
    "next(var2)"
   ]
  },
  {
   "cell_type": "code",
   "execution_count": 26,
   "id": "2d418495",
   "metadata": {},
   "outputs": [
    {
     "name": "stdout",
     "output_type": "stream",
     "text": [
      "E\n"
     ]
    },
    {
     "data": {
      "text/plain": [
       "10"
      ]
     },
     "execution_count": 26,
     "metadata": {},
     "output_type": "execute_result"
    }
   ],
   "source": [
    "def generator_func5(arg):\n",
    "  ##  arg_len = len(arg)\n",
    "    for i in range(len(arg)-1,0,-1):\n",
    "        print(arg[i])\n",
    "        yield i\n",
    "var3 = generator_func5('DATASCIENCE')\n",
    "next(var3)\n"
   ]
  },
  {
   "cell_type": "code",
   "execution_count": 27,
   "id": "1988ce5e",
   "metadata": {},
   "outputs": [
    {
     "name": "stdout",
     "output_type": "stream",
     "text": [
      "C\n"
     ]
    },
    {
     "data": {
      "text/plain": [
       "9"
      ]
     },
     "execution_count": 27,
     "metadata": {},
     "output_type": "execute_result"
    }
   ],
   "source": [
    "next(var3)"
   ]
  },
  {
   "cell_type": "markdown",
   "id": "c9e3e80e",
   "metadata": {},
   "source": [
    "\n",
    "## range (start,stop,step)"
   ]
  },
  {
   "cell_type": "code",
   "execution_count": 35,
   "id": "3321f2e8",
   "metadata": {},
   "outputs": [],
   "source": [
    "\n",
    "\n",
    "def rev_str(my_str):\n",
    "    length = len(my_str)\n",
    "    for i in range(length - 1, -1, -1): #reverse order\n",
    "        yield my_str[i]\n",
    "\n"
   ]
  },
  {
   "cell_type": "code",
   "execution_count": 36,
   "id": "9bbff8bb",
   "metadata": {},
   "outputs": [
    {
     "name": "stdout",
     "output_type": "stream",
     "text": [
      "e\n",
      "c\n",
      "n\n",
      "e\n",
      "i\n",
      "c\n",
      "S\n",
      "a\n",
      "t\n",
      "a\n",
      "D\n"
     ]
    }
   ],
   "source": [
    "my_str = \"DataScience\"\n",
    "for char in rev_str(my_str):\n",
    "    print(char)"
   ]
  },
  {
   "cell_type": "markdown",
   "id": "73c347ae",
   "metadata": {},
   "source": [
    "## Generator Expression"
   ]
  },
  {
   "cell_type": "code",
   "execution_count": 20,
   "id": "1365197f",
   "metadata": {},
   "outputs": [],
   "source": [
    "list1 = [2, 4, 5,10 ]"
   ]
  },
  {
   "cell_type": "code",
   "execution_count": 21,
   "id": "ce94b7a0",
   "metadata": {},
   "outputs": [
    {
     "data": {
      "text/plain": [
       "[8, 64, 125, 1000]"
      ]
     },
     "execution_count": 21,
     "metadata": {},
     "output_type": "execute_result"
    }
   ],
   "source": [
    "[i**3 for i in list1]"
   ]
  },
  {
   "cell_type": "code",
   "execution_count": 40,
   "id": "8f641858",
   "metadata": {},
   "outputs": [
    {
     "data": {
      "text/plain": [
       "<generator object <genexpr> at 0x000001C7BA5A1BA0>"
      ]
     },
     "execution_count": 40,
     "metadata": {},
     "output_type": "execute_result"
    }
   ],
   "source": [
    "(i*i for i in list1)"
   ]
  },
  {
   "cell_type": "code",
   "execution_count": 15,
   "id": "26176692",
   "metadata": {},
   "outputs": [],
   "source": [
    "gen_var = (i**3 for i in list1)"
   ]
  },
  {
   "cell_type": "code",
   "execution_count": 16,
   "id": "fe2a1127",
   "metadata": {},
   "outputs": [
    {
     "name": "stdout",
     "output_type": "stream",
     "text": [
      "8\n",
      "64\n",
      "125\n",
      "1000\n"
     ]
    }
   ],
   "source": [
    "print(next(gen_var))\n",
    "print(next(gen_var))\n",
    "print(next(gen_var))\n",
    "print(next(gen_var))"
   ]
  },
  {
   "cell_type": "code",
   "execution_count": 23,
   "id": "ad704cfe",
   "metadata": {},
   "outputs": [
    {
     "data": {
      "text/plain": [
       "1000"
      ]
     },
     "execution_count": 23,
     "metadata": {},
     "output_type": "execute_result"
    }
   ],
   "source": [
    "max(i**3 for i in list1)"
   ]
  },
  {
   "cell_type": "code",
   "execution_count": 24,
   "id": "64ff27ba",
   "metadata": {},
   "outputs": [
    {
     "data": {
      "text/plain": [
       "8"
      ]
     },
     "execution_count": 24,
     "metadata": {},
     "output_type": "execute_result"
    }
   ],
   "source": [
    "min(i**3 for i in list1)"
   ]
  },
  {
   "cell_type": "markdown",
   "id": "8e00c058",
   "metadata": {},
   "source": [
    "## Closures"
   ]
  },
  {
   "cell_type": "code",
   "execution_count": 10,
   "id": "62c643b8",
   "metadata": {},
   "outputs": [],
   "source": [
    "def outer_fun(arg):\n",
    "    def inner_fun():\n",
    "        var1 = arg * 5\n",
    "        print(var1)\n",
    "    inner_fun()"
   ]
  },
  {
   "cell_type": "code",
   "execution_count": 11,
   "id": "bb52b391",
   "metadata": {},
   "outputs": [
    {
     "name": "stdout",
     "output_type": "stream",
     "text": [
      "100\n"
     ]
    }
   ],
   "source": [
    "outer_fun(20)"
   ]
  },
  {
   "cell_type": "code",
   "execution_count": 12,
   "id": "f4324fd6",
   "metadata": {},
   "outputs": [],
   "source": [
    "def outer_fun(arg):\n",
    "    var3 = 5\n",
    "    def inner_fun():\n",
    "        var1 = arg * 5 + var3\n",
    "        var2 = 5\n",
    "        print(var2)\n",
    "        return var2\n",
    "    return inner_fun()"
   ]
  },
  {
   "cell_type": "code",
   "execution_count": 13,
   "id": "aeae6e1f",
   "metadata": {},
   "outputs": [
    {
     "name": "stdout",
     "output_type": "stream",
     "text": [
      "5\n"
     ]
    },
    {
     "data": {
      "text/plain": [
       "5"
      ]
     },
     "execution_count": 13,
     "metadata": {},
     "output_type": "execute_result"
    }
   ],
   "source": [
    "outer_fun(10)"
   ]
  },
  {
   "cell_type": "code",
   "execution_count": 15,
   "id": "b6cdcb66",
   "metadata": {},
   "outputs": [],
   "source": [
    "def outer_fun(arg):\n",
    "    def inner_fun():\n",
    "        var1 = arg * 5\n",
    "        print(var1)\n",
    "    return inner_fun()"
   ]
  },
  {
   "cell_type": "code",
   "execution_count": 16,
   "id": "ee6eebb4",
   "metadata": {},
   "outputs": [
    {
     "name": "stdout",
     "output_type": "stream",
     "text": [
      "250\n"
     ]
    }
   ],
   "source": [
    "outer_fun(50)"
   ]
  },
  {
   "cell_type": "code",
   "execution_count": 17,
   "id": "4d9d28f0",
   "metadata": {},
   "outputs": [
    {
     "name": "stdout",
     "output_type": "stream",
     "text": [
      "250\n"
     ]
    }
   ],
   "source": [
    "fun_ret = outer_fun(50)"
   ]
  },
  {
   "cell_type": "markdown",
   "id": "3dd6e054",
   "metadata": {},
   "source": [
    "## Decorators"
   ]
  },
  {
   "cell_type": "code",
   "execution_count": 19,
   "id": "b65bf81d",
   "metadata": {},
   "outputs": [
    {
     "name": "stdout",
     "output_type": "stream",
     "text": [
      "Print function 1\n"
     ]
    }
   ],
   "source": [
    "def funct1():\n",
    "    print('Print function 1')\n",
    "funct1()"
   ]
  },
  {
   "cell_type": "code",
   "execution_count": 20,
   "id": "32169e1f",
   "metadata": {},
   "outputs": [
    {
     "name": "stdout",
     "output_type": "stream",
     "text": [
      "Print function 1\n"
     ]
    }
   ],
   "source": [
    "funct2 = funct1\n",
    "funct2()"
   ]
  },
  {
   "cell_type": "code",
   "execution_count": 21,
   "id": "9c63eb31",
   "metadata": {},
   "outputs": [],
   "source": [
    "def square(a):\n",
    "    return a*a\n",
    "\n",
    "def cube(c):\n",
    "    return c*c*c\n",
    "\n",
    "def calculation(function, val):\n",
    "    result = function(val)\n",
    "    return result"
   ]
  },
  {
   "cell_type": "code",
   "execution_count": 22,
   "id": "8f54545f",
   "metadata": {},
   "outputs": [
    {
     "data": {
      "text/plain": [
       "16"
      ]
     },
     "execution_count": 22,
     "metadata": {},
     "output_type": "execute_result"
    }
   ],
   "source": [
    "calculation(square, 4)"
   ]
  },
  {
   "cell_type": "code",
   "execution_count": 23,
   "id": "43bd0719",
   "metadata": {},
   "outputs": [
    {
     "data": {
      "text/plain": [
       "27"
      ]
     },
     "execution_count": 23,
     "metadata": {},
     "output_type": "execute_result"
    }
   ],
   "source": [
    "calculation(cube, 3)"
   ]
  },
  {
   "cell_type": "code",
   "execution_count": 28,
   "id": "230485d2",
   "metadata": {},
   "outputs": [],
   "source": [
    "def is_called():\n",
    "    def is_returned():\n",
    "        print('Nested function is returned')\n",
    "    return is_returned"
   ]
  },
  {
   "cell_type": "code",
   "execution_count": 29,
   "id": "2803d779",
   "metadata": {},
   "outputs": [
    {
     "name": "stdout",
     "output_type": "stream",
     "text": [
      "Nested function is returned\n"
     ]
    }
   ],
   "source": [
    "fn= is_called()\n",
    "fn()"
   ]
  },
  {
   "cell_type": "code",
   "execution_count": 33,
   "id": "5769d7b9",
   "metadata": {},
   "outputs": [
    {
     "name": "stdout",
     "output_type": "stream",
     "text": [
      "This is an ordinary function\n",
      "This is decorated now\n"
     ]
    }
   ],
   "source": [
    "def decorating_fun(fn):\n",
    "    def nested_fn():\n",
    "        fn()\n",
    "        print('This is decorated now')\n",
    "    return nested_fn      \n",
    "def ordinary_fn():\n",
    "    print('This is an ordinary function')\n",
    "              \n",
    "deco = decorating_fun(ordinary_fn)\n",
    "deco()"
   ]
  },
  {
   "cell_type": "code",
   "execution_count": 36,
   "id": "5b144a18",
   "metadata": {},
   "outputs": [],
   "source": [
    "@decorating_fun\n",
    "def ordinary_fn():\n",
    "    print('This is an ordinary function')"
   ]
  },
  {
   "cell_type": "code",
   "execution_count": 38,
   "id": "846f1159",
   "metadata": {},
   "outputs": [],
   "source": [
    "def ordinary_fn():\n",
    "    print('This is an ordinary function')\n",
    "\n",
    "ordinary_fn = decorating_fun(ordinary_fn)"
   ]
  },
  {
   "cell_type": "code",
   "execution_count": 39,
   "id": "d25b3c10",
   "metadata": {},
   "outputs": [],
   "source": [
    "def decorating_fn(func):\n",
    "    def nested_fn(a,b):\n",
    "        print('dividing' , a, 'and' , b)\n",
    "        if b == 0:\n",
    "            print('can not divide')\n",
    "            return\n",
    "        return func (a, b)\n",
    "    return nested_fn"
   ]
  },
  {
   "cell_type": "code",
   "execution_count": 42,
   "id": "36f50499",
   "metadata": {},
   "outputs": [],
   "source": [
    "@decorating_fn # place the decorating function on top of the function that needs to be decorated\n",
    "def ordinary_fn(a,b):\n",
    "    return a/b"
   ]
  },
  {
   "cell_type": "code",
   "execution_count": 44,
   "id": "b54b8c8d",
   "metadata": {},
   "outputs": [
    {
     "name": "stdout",
     "output_type": "stream",
     "text": [
      "dividing 64 and 8\n"
     ]
    },
    {
     "data": {
      "text/plain": [
       "8.0"
      ]
     },
     "execution_count": 44,
     "metadata": {},
     "output_type": "execute_result"
    }
   ],
   "source": [
    "ordinary_fn(64, 8)"
   ]
  },
  {
   "cell_type": "code",
   "execution_count": null,
   "id": "1ec563c4",
   "metadata": {},
   "outputs": [],
   "source": []
  }
 ],
 "metadata": {
  "kernelspec": {
   "display_name": "Python 3 (ipykernel)",
   "language": "python",
   "name": "python3"
  },
  "language_info": {
   "codemirror_mode": {
    "name": "ipython",
    "version": 3
   },
   "file_extension": ".py",
   "mimetype": "text/x-python",
   "name": "python",
   "nbconvert_exporter": "python",
   "pygments_lexer": "ipython3",
   "version": "3.9.7"
  }
 },
 "nbformat": 4,
 "nbformat_minor": 5
}
